{
 "cells": [
  {
   "cell_type": "code",
   "execution_count": 1,
   "metadata": {},
   "outputs": [],
   "source": [
    "import numpy as np\n",
    "from scipy import stats"
   ]
  },
  {
   "attachments": {},
   "cell_type": "markdown",
   "metadata": {},
   "source": [
    "<h3> (1) Exercise 13 in Chapter 8 of Ross </h3>"
   ]
  },
  {
   "cell_type": "code",
   "execution_count": 2,
   "metadata": {},
   "outputs": [
    {
     "name": "stdout",
     "output_type": "stream",
     "text": [
      "Estimated p is 0.76\n"
     ]
    }
   ],
   "source": [
    "n = 10\n",
    "a = -5\n",
    "b = 5\n",
    "X = np.array([56,101,78,67,93,87,64,72,80,69])\n",
    "\n",
    "r = 100\n",
    "mean_res = []\n",
    "for i in range(r):\n",
    "    samples = np.random.choice(X,10)\n",
    "    mean_diff = np.mean(X) - np.mean(samples)\n",
    "    mean_res = np.append(mean_res,mean_diff)\n",
    "\n",
    "p = np.sum(np.abs(mean_res)<b)\n",
    "\n",
    "print('Estimated p is {}'.format(p/r))"
   ]
  },
  {
   "attachments": {},
   "cell_type": "markdown",
   "metadata": {},
   "source": [
    "<h3> (2) Exercise 15 in Chapter 8 of Ross </h3>"
   ]
  },
  {
   "cell_type": "code",
   "execution_count": 3,
   "metadata": {},
   "outputs": [
    {
     "name": "stdout",
     "output_type": "stream",
     "text": [
      "Estimated variance is: 60.3456410274642\n"
     ]
    }
   ],
   "source": [
    "n = 15\n",
    "X = np.array([5, 4, 9, 6, 21, 17, 11, 20, 7, 10, 21, 15, 13, 16, 8])\n",
    "r = 10000\n",
    "var_list = []\n",
    "for _ in range(r):\n",
    "    bootstrap = np.random.choice(X,15)\n",
    "    var_list.append(np.var(bootstrap, ddof = 1))\n",
    "\n",
    "print('Estimated variance is:',np.var(var_list, ddof = 1))\n"
   ]
  },
  {
   "attachments": {},
   "cell_type": "markdown",
   "metadata": {},
   "source": [
    "<h3> Bootstrap for Pareto distribution</h3>"
   ]
  },
  {
   "attachments": {},
   "cell_type": "markdown",
   "metadata": {},
   "source": [
    "Define two functions able to find the median and the mean, along with the bootstrap estimate of the variance"
   ]
  },
  {
   "cell_type": "code",
   "execution_count": 4,
   "metadata": {},
   "outputs": [],
   "source": [
    "def median_variance_finder(data):\n",
    "    r = 100\n",
    "    n = data.shape[0]\n",
    "    bootstraps = np.random.choice(data, [n,r])\n",
    "    medians = np.median(bootstraps, axis = 0)\n",
    "    return np.median(data), np.var(medians, ddof = 1)\n",
    "\n",
    "def mean_variance_finder(data):\n",
    "    r = 100\n",
    "    n = data.shape[0]\n",
    "    bootstraps = np.random.choice(data, [n,r])\n",
    "    means = np.mean(bootstraps, axis = 0)\n",
    "    return np.mean(data), np.var(means, ddof = 1)"
   ]
  },
  {
   "cell_type": "code",
   "execution_count": 5,
   "metadata": {},
   "outputs": [
    {
     "name": "stdout",
     "output_type": "stream",
     "text": [
      "The estimated meadian is: 1.8428\n",
      "Its bootstrap variance is: 0.0083\n",
      "\n",
      "The estimated mean is: 7.3530\n",
      "Its bootstrap variance is: 4.6270\n"
     ]
    }
   ],
   "source": [
    "samples = stats.pareto.rvs(1.05, size = 200)\n",
    "median, var_med = median_variance_finder(samples)\n",
    "mean, var_mean = mean_variance_finder(samples)\n",
    "print('The estimated meadian is: {:.4f}'.format(median))\n",
    "print('Its bootstrap variance is: {:.4f}\\n'.format(var_med))\n",
    "print('The estimated mean is: {:.4f}'.format(mean))\n",
    "print('Its bootstrap variance is: {:.4f}'.format(var_mean))"
   ]
  },
  {
   "attachments": {},
   "cell_type": "markdown",
   "metadata": {},
   "source": [
    "The variance for the estimation of the median is much less with respect to the one for the estimation of the mean. Indeed, the estimation of the mean for the Pareto distribution is a difficult task as seen in previous exercises."
   ]
  }
 ],
 "metadata": {
  "kernelspec": {
   "display_name": "Python 3",
   "language": "python",
   "name": "python3"
  },
  "language_info": {
   "codemirror_mode": {
    "name": "ipython",
    "version": 3
   },
   "file_extension": ".py",
   "mimetype": "text/x-python",
   "name": "python",
   "nbconvert_exporter": "python",
   "pygments_lexer": "ipython3",
   "version": "3.10.11"
  },
  "orig_nbformat": 4
 },
 "nbformat": 4,
 "nbformat_minor": 2
}
