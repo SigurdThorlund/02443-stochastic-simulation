{
 "cells": [
  {
   "cell_type": "markdown",
   "metadata": {},
   "source": [
    "<!-- Tasks (FILIP) -->"
   ]
  },
  {
   "cell_type": "code",
   "execution_count": 9,
   "metadata": {},
   "outputs": [],
   "source": [
    "import numpy as np\n",
    "import matplotlib.pyplot as plt\n",
    "\n",
    "import pandas as pd\n",
    "import scipy.stats as stats\n",
    "import random\n",
    "import math"
   ]
  },
  {
   "cell_type": "markdown",
   "metadata": {},
   "source": [
    "<h1> Exercise 8: Bootstrap"
   ]
  },
  {
   "cell_type": "markdown",
   "metadata": {},
   "source": [
    "<h3> (1)"
   ]
  },
  {
   "cell_type": "markdown",
   "metadata": {},
   "source": [
    "The Bootstrap approach can be used to estimate p. This is done by randomly sampling from a list (can be considered the target distribution), for a number of simulations (r). For each simulation a mean can be estimated. Using these estimations, it can be examined how often the conditions are fullfulled.\n",
    "\n",
    "The implementation is made below."
   ]
  },
  {
   "cell_type": "code",
   "execution_count": 24,
   "metadata": {},
   "outputs": [
    {
     "name": "stdout",
     "output_type": "stream",
     "text": [
      "0.75\n"
     ]
    }
   ],
   "source": [
    "#%% Question 1\n",
    "def bootstrap(X):\n",
    "    n = len(X)\n",
    "    return np.random.choice(X,n),n\n",
    "\n",
    "r = 100\n",
    "X = np.array([56, 101, 78, 67, 93, 87, 64, 72, 80, 69])\n",
    "a,b=-5,5\n",
    "\n",
    "count=0\n",
    "for i in range(r):\n",
    "    sim,n = bootstrap(X)\n",
    "    mu = np.mean(sim)\n",
    "    if np.logical_and(a < sum(X/n)-mu,sum(X/n)-mu < b):\n",
    "        count+=1\n",
    "\n",
    "P = count/r\n",
    "\n",
    "print(P)"
   ]
  },
  {
   "cell_type": "markdown",
   "metadata": {},
   "source": [
    "It can be seen that the condition is true around 75% of the time"
   ]
  },
  {
   "cell_type": "markdown",
   "metadata": {},
   "source": [
    "<h3> (2)"
   ]
  },
  {
   "cell_type": "markdown",
   "metadata": {},
   "source": [
    "Using the data shown in the exercise the variance of the estimated variance can be computed."
   ]
  },
  {
   "cell_type": "code",
   "execution_count": 26,
   "metadata": {},
   "outputs": [
    {
     "name": "stdout",
     "output_type": "stream",
     "text": [
      "var(s^2):  57.03025328375995\n"
     ]
    }
   ],
   "source": [
    "#%% Question 2\n",
    "X = [5,4,9,6,21,17,11,20,7,10,21,15,13,16,8]\n",
    "\n",
    "\n",
    "r = 1000\n",
    "var = np.zeros(r)\n",
    "for i in range(r):\n",
    "    sim,n = bootstrap(X)\n",
    "    var[i] = np.var(sim,ddof=1)\n",
    "\n",
    "print(\"var(s^2): \",np.var(var,ddof=1))"
   ]
  },
  {
   "cell_type": "markdown",
   "metadata": {},
   "source": [
    "<h3> (3)"
   ]
  },
  {
   "cell_type": "markdown",
   "metadata": {},
   "source": [
    "For the exercise we will define a function which outputs the sample median and variance."
   ]
  },
  {
   "cell_type": "code",
   "execution_count": 35,
   "metadata": {},
   "outputs": [],
   "source": [
    "\n",
    "def bootstrapEstimateMed(X,r):\n",
    "    sample_med = np.median(X)\n",
    "    n = len(X)\n",
    "    \n",
    "    bts = np.random.choice(X,[n,r])\n",
    "    b_med = np.median(bts,axis=0)\n",
    "    b_var = np.var(b_med,ddof=1)\n",
    "    \n",
    "    return sample_med, b_var\n",
    "    \n",
    "\n",
    "N = 200\n",
    "X = stats.pareto.rvs(1.05,size=N)\n",
    "r = 100\n",
    "\n"
   ]
  },
  {
   "cell_type": "markdown",
   "metadata": {},
   "source": [
    "<h4> a) Mean and Median"
   ]
  },
  {
   "cell_type": "markdown",
   "metadata": {},
   "source": [
    "The true mean and median are calculated."
   ]
  },
  {
   "cell_type": "code",
   "execution_count": 36,
   "metadata": {},
   "outputs": [
    {
     "name": "stdout",
     "output_type": "stream",
     "text": [
      "mean:  4.680944968041803\n",
      "median:  1.9007765099739646\n"
     ]
    }
   ],
   "source": [
    "print(\"mean: \",np.mean(X))\n",
    "print(\"median: \",np.median(X))"
   ]
  },
  {
   "cell_type": "markdown",
   "metadata": {},
   "source": [
    "<h4> b) Variance of sample mean"
   ]
  },
  {
   "cell_type": "markdown",
   "metadata": {},
   "source": [
    "We want to examine the variance of the Bootstrap estimates of the mean. Thus, a function computing the sample mean and variance of the sample mean is created and used."
   ]
  },
  {
   "cell_type": "code",
   "execution_count": 37,
   "metadata": {},
   "outputs": [
    {
     "name": "stdout",
     "output_type": "stream",
     "text": [
      "(4.680944968041803, 0.8551287983736425)\n"
     ]
    }
   ],
   "source": [
    "#%% B\n",
    "def bootstrapEstimateMean(X,r):\n",
    "    sample_mean = np.mean(X)\n",
    "    n = len(X)\n",
    "    \n",
    "    bts = np.random.choice(X,[n,r])\n",
    "    b_mean = np.mean(bts,axis=0)\n",
    "    b_var = np.var(b_mean,ddof=1)\n",
    "    return sample_mean, b_var\n",
    "\n",
    "print(bootstrapEstimateMean(X,r))"
   ]
  },
  {
   "cell_type": "markdown",
   "metadata": {},
   "source": [
    "<h4> c) Variance of sample median"
   ]
  },
  {
   "cell_type": "markdown",
   "metadata": {},
   "source": [
    "The same is done for the median. We already created this function in the beginning of (3)."
   ]
  },
  {
   "cell_type": "code",
   "execution_count": 38,
   "metadata": {},
   "outputs": [
    {
     "name": "stdout",
     "output_type": "stream",
     "text": [
      "(1.9007765099739646, 0.015967024662851992)\n"
     ]
    }
   ],
   "source": [
    "print(bootstrapEstimateMed(X, r))"
   ]
  },
  {
   "cell_type": "markdown",
   "metadata": {},
   "source": [
    "<h4> d) Precision of median and mean estimations"
   ]
  },
  {
   "cell_type": "markdown",
   "metadata": {},
   "source": [
    "The estimations of the sample mean and median has different precisions. They are compared below."
   ]
  },
  {
   "cell_type": "code",
   "execution_count": 40,
   "metadata": {},
   "outputs": [
    {
     "name": "stdout",
     "output_type": "stream",
     "text": [
      "mean:  (7.326363113950223, 1.9920850010808981)\n",
      "median:  (1.9602197728541069, 0.00027839453549673106)\n"
     ]
    }
   ],
   "source": [
    "N = 10000\n",
    "X = stats.pareto.rvs(1.05,size=N)\n",
    "r = 100\n",
    "\n",
    "print(\"mean: \", bootstrapEstimateMean(X,r))\n",
    "\n",
    "print(\"median: \",bootstrapEstimateMed(X,r))\n",
    "\n",
    "#it is easier to estimate the median than the mean<"
   ]
  },
  {
   "cell_type": "markdown",
   "metadata": {},
   "source": [
    "As it can be seen of the low precision and high variance, it is very hard to estimate the true mean using empirical methods for the pareto with k=1.05. This is because the pareto has a considerable probability of sampling large numbers. These are somewhat rare, meaning that the sampling wont properly work except if the sample size is incredibly large.\n",
    "\n",
    "\n",
    "In contrast the median is much more precise, with a very low variance.  The median is easier because it is not dependant on sampling the large values of the pareto distribution."
   ]
  }
 ],
 "metadata": {
  "kernelspec": {
   "display_name": "Python 3",
   "language": "python",
   "name": "python3"
  },
  "language_info": {
   "codemirror_mode": {
    "name": "ipython",
    "version": 3
   },
   "file_extension": ".py",
   "mimetype": "text/x-python",
   "name": "python",
   "nbconvert_exporter": "python",
   "pygments_lexer": "ipython3",
   "version": "3.6.10"
  }
 },
 "nbformat": 4,
 "nbformat_minor": 4
}
