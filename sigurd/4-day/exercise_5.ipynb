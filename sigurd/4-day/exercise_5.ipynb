{
 "cells": [
  {
   "cell_type": "code",
   "execution_count": 1,
   "metadata": {},
   "outputs": [],
   "source": [
    "import numpy as np\n",
    "import scipy.stats as stats\n",
    "import matplotlib.pyplot as plt\n",
    "import seaborn as sbn\n",
    "from tqdm import tqdm\n",
    "\n",
    "sbn.set()"
   ]
  },
  {
   "attachments": {},
   "cell_type": "markdown",
   "metadata": {},
   "source": [
    "<h3>(1) Crude Monte Carlo estimate </h3>"
   ]
  },
  {
   "cell_type": "code",
   "execution_count": 2,
   "metadata": {},
   "outputs": [],
   "source": [
    "n = 10000\n",
    "\n",
    "actual_integral = np.exp(1) - 1\n",
    "\n",
    "U = np.random.uniform(0, 1, size = n)"
   ]
  },
  {
   "cell_type": "code",
   "execution_count": 3,
   "metadata": {},
   "outputs": [
    {
     "name": "stdout",
     "output_type": "stream",
     "text": [
      "Integral estimate Monte Carlo: 1.718444477511241, actual: 1.718281828459045, error = 0.02%\n"
     ]
    }
   ],
   "source": [
    "n = 1000\n",
    "\n",
    "X = np.exp(U)\n",
    "\n",
    "X_bar = np.mean(X)\n",
    "\n",
    "error = np.abs(X_bar - actual_integral) * 100\n",
    "\n",
    "print(f'Integral estimate Monte Carlo: {X_bar}, actual: {actual_integral}, error = {error:.2f}%')"
   ]
  },
  {
   "attachments": {},
   "cell_type": "markdown",
   "metadata": {},
   "source": [
    "<h3>(2) Antithetic estimate </h3>"
   ]
  },
  {
   "cell_type": "code",
   "execution_count": 4,
   "metadata": {},
   "outputs": [
    {
     "name": "stdout",
     "output_type": "stream",
     "text": [
      "Integral estimate Antithetic: 1.7191764557701554, actual: 1.718281828459045, error = 0.09%\n",
      "Variance reduction = 98.40%\n"
     ]
    }
   ],
   "source": [
    "X = np.exp(U)\n",
    "\n",
    "Y = (np.exp(U) + np.exp(1 - U)) / 2\n",
    "\n",
    "Y_bar = np.mean(Y)\n",
    "\n",
    "error = np.abs(Y_bar - actual_integral)\n",
    "\n",
    "print(f'Integral estimate Antithetic: {Y_bar}, actual: {actual_integral}, error = {error * 100:.2f}%')\n",
    "print(f'Variance reduction = {((np.abs(np.std(Y) ** 2 - np.std(X) ** 2)) / np.std(X) ** 2) * 100:.2f}%')"
   ]
  },
  {
   "attachments": {},
   "cell_type": "markdown",
   "metadata": {},
   "source": [
    "The estimate of the integral using antithetic variables is a little bit more precise and reduced the variance with >98 %."
   ]
  },
  {
   "attachments": {},
   "cell_type": "markdown",
   "metadata": {},
   "source": [
    "<h3>(3) Control variate estimate</h3>"
   ]
  },
  {
   "cell_type": "code",
   "execution_count": 5,
   "metadata": {},
   "outputs": [
    {
     "name": "stdout",
     "output_type": "stream",
     "text": [
      "Integral estimate Control Variate: 1.71838, actual: 1.71828, error = 0.01%\n",
      "Variance reduction = 17.31%\n"
     ]
    }
   ],
   "source": [
    "X = np.exp(U)\n",
    "\n",
    "c = np.mean(U * X) - np.mean(U) * np.mean(X)\n",
    "\n",
    "Z = X + c*(U - 1/2)\n",
    "Z_bar = np.mean(Z)\n",
    "\n",
    "error = np.abs(Z_bar - actual_integral)\n",
    "\n",
    "print(f'Integral estimate Control Variate: {Z_bar:.5f}, actual: {actual_integral:.5f}, error = {error * 100:.2f}%')\n",
    "print(f'Variance reduction = {((np.abs(np.std(Z) ** 2 - np.std(X) ** 2)) / np.std(X) ** 2) * 100:.2f}%')"
   ]
  },
  {
   "attachments": {},
   "cell_type": "markdown",
   "metadata": {},
   "source": [
    "<h3>(4) Stratified sampling estimate </h3>"
   ]
  },
  {
   "cell_type": "code",
   "execution_count": 6,
   "metadata": {},
   "outputs": [
    {
     "name": "stdout",
     "output_type": "stream",
     "text": [
      "Integral estimate Control Variate: 1.71821, actual: 1.71828, error = 0.01%\n"
     ]
    }
   ],
   "source": [
    "n_intervals = 10 # Number of intervals\n",
    "n = U.shape[0]\n",
    "W = np.zeros(n)\n",
    "\n",
    "for i in range(n_intervals):\n",
    "    temp = np.exp(i / n_intervals + U / n_intervals)\n",
    "    W += temp\n",
    "\n",
    "W = W / n_intervals\n",
    "\n",
    "W_bar = np.mean(W)\n",
    "\n",
    "error = np.abs(W_bar - actual_integral)\n",
    "\n",
    "print(f'Integral estimate Control Variate: {W_bar:.5f}, actual: {actual_integral:.5f}, error = {error * 100:.2f}%')"
   ]
  },
  {
   "attachments": {},
   "cell_type": "markdown",
   "metadata": {},
   "source": [
    "<h3>(5) Control variate for estimator in simulation </h3>"
   ]
  },
  {
   "cell_type": "code",
   "execution_count": 7,
   "metadata": {},
   "outputs": [],
   "source": [
    "def simulate_blocking_system(arrival_intensity = 1, mean_service_time = 8, num_servers = 10, n = 10000, \n",
    "                             arrival_mode = 'poisson', service_mode = 'exponential', service_params = {}, variance_reduction = False):\n",
    "    \"\"\"\n",
    "        Simulate simple blocking system with discrete events and no waiting room.\n",
    "    \"\"\"\n",
    "    t_system = 0\n",
    "    m = num_servers\n",
    "    servers = np.zeros(m)\n",
    "    blocked = 0 # Counter of number of blocked\n",
    "\n",
    "    U_arrivals = np.random.uniform(0, 1, size = n)\n",
    "    mu_u = 1/2\n",
    "    X_arrivals = rvs_poisson(U, lambda_ = 1)\n",
    "\n",
    "    c = np.cov(X_arrivals, U_arrivals)[0, 1] / np.var(U_arrivals)\n",
    "\n",
    "    Z = X_arrivals + c * (U_arrivals - mu_u)\n",
    "\n",
    "    for i in range(n):\n",
    "        # Sample time from which this customer arrives\n",
    "        if arrival_mode == 'poisson':\n",
    "            # t_arrival = stats.expon.rvs(scale=arrival_intensity, size = 1)\n",
    "            if variance_reduction:\n",
    "                t_arrival = Z[i]\n",
    "            else:\n",
    "                t_arrival = stats.expon.rvs(scale=arrival_intensity, size = 1)\n",
    "        elif arrival_mode == 'erlang':\n",
    "            t_arrival = stats.erlang.rvs(a = 1, scale=arrival_intensity, size = 1)\n",
    "        elif arrival_mode == 'hyper':\n",
    "            t_arrival = rvs_hyperexponential(p = 0.8, lambda_1 = 0.8333, lambda_2 = 5.0)\n",
    "        else:\n",
    "            raise ValueError('Wrong arrival mode specified!')\n",
    "        \n",
    "        # Extend system time\n",
    "        t_system += t_arrival\n",
    "\n",
    "        # Find available server\n",
    "        min_server_idx = np.argmin(servers)\n",
    "\n",
    "        if t_system >= servers[min_server_idx]:\n",
    "            if service_mode == 'exponential':\n",
    "                t_service = stats.expon.rvs(scale=mean_service_time, size = 1)\n",
    "            elif service_mode == 'constant':\n",
    "                t_service = mean_service_time\n",
    "            elif service_mode == 'pareto':\n",
    "                k = service_params.get('k')\n",
    "                t_service = rvs_pareto(mean_ = mean_service_time, k = k, size = 1)\n",
    "            elif service_mode == 'normal':\n",
    "                s = service_params.get('s')\n",
    "                val = stats.norm.rvs(loc = mean_service_time, scale = s, size = 1)\n",
    "                if val < 0:\n",
    "                    val = 0\n",
    "                t_service = val\n",
    "            else:\n",
    "                raise ValueError('Wrong service mode specified')\n",
    "            servers[min_server_idx] = t_system + t_service\n",
    "        else:\n",
    "            blocked += 1\n",
    "\n",
    "    # Compute blocked fraction\n",
    "    blocked_fraction = blocked / n\n",
    "\n",
    "    return blocked_fraction\n",
    "\n",
    "def rvs_hyperexponential(p, lambda_1, lambda_2, u_1, u_2):\n",
    "    res = np.zeros(len(u_1))\n",
    "    res[u_2 <= p] = rvs_poisson(lambda_ = lambda_1, U = u_1[u_2 <=p])\n",
    "    res[u_2 > p] = rvs_poisson(lambda_ = lambda_2, U = u_1[u_2 > p])\n",
    "    return res\n",
    "\n",
    "def rvs_poisson(U, lambda_ = 1):\n",
    "    return -np.log(U) / lambda_\n",
    "\n",
    "\n",
    "def rvs_pareto(mean_ = 8, k = 1.05, size = 1):\n",
    "    # Find the value of Beta\n",
    "    beta = mean_ * (k - 1) / k\n",
    "\n",
    "    # Generate uniform numbers \n",
    "    U = np.random.uniform(0, 1, size = size)\n",
    "    X = beta * (U ** (-1/k))\n",
    "\n",
    "    return X\n",
    "\n",
    "def confidence_interval(vals, alpha = 0.05):\n",
    "    if type(vals) != np.ndarray:\n",
    "        vals = np.array(vals)\n",
    "\n",
    "    n = len(vals)\n",
    "\n",
    "    mean_ = np.mean(vals)\n",
    "    std_error = np.sqrt( 1 / (n - 1) * np.sum((vals - mean_) ** 2))\n",
    "\n",
    "    t = stats.t.ppf(1 - (alpha / 2), df = n - 1 )\n",
    "\n",
    "    conf = [mean_ - t * std_error / np.sqrt(n), mean_ + t * std_error / np.sqrt(n)]\n",
    "\n",
    "    return np.array(conf)\n",
    "\n",
    "def analytical_blocking_system(arrival_intensity = 1, mean_service_time = 8, num_servers = 10):\n",
    "    lambda_ = arrival_intensity\n",
    "    s = mean_service_time\n",
    "    m = num_servers\n",
    "    A = lambda_ * s\n",
    "\n",
    "    temp = np.array([A ** i / np.math.factorial(i) for i in np.arange(0, m + 1, 1)])\n",
    "\n",
    "    B = (A ** m / np.math.factorial(m)) / (temp.sum())\n",
    "\n",
    "    return B\n"
   ]
  },
  {
   "cell_type": "code",
   "execution_count": 8,
   "metadata": {},
   "outputs": [
    {
     "name": "stdout",
     "output_type": "stream",
     "text": [
      "Simulating program with and without variance reduction for 10 rounds\n"
     ]
    },
    {
     "name": "stderr",
     "output_type": "stream",
     "text": [
      "100%|██████████| 10/10 [00:03<00:00,  2.85it/s]"
     ]
    },
    {
     "name": "stdout",
     "output_type": "stream",
     "text": [
      "variance reduction = 0.7149713640396878\n"
     ]
    },
    {
     "name": "stderr",
     "output_type": "stream",
     "text": [
      "\n"
     ]
    }
   ],
   "source": [
    "rounds = 10\n",
    "fractions = np.zeros(rounds)\n",
    "fractions_reduced = np.zeros(rounds)\n",
    "\n",
    "print(f'Simulating program with and without variance reduction for {rounds} rounds')\n",
    "\n",
    "for r in tqdm(range(rounds)):\n",
    "    fractions[r] = simulate_blocking_system(variance_reduction=False)\n",
    "    fractions_reduced[r] = simulate_blocking_system(variance_reduction=True)\n",
    "\n",
    "print(f'variance reduction = {np.abs(np.var(fractions_reduced) - np.var(fractions))/ np.var(fractions)}')"
   ]
  },
  {
   "attachments": {},
   "cell_type": "markdown",
   "metadata": {},
   "source": [
    "<h3> (6) Common Random numbers </h3>"
   ]
  },
  {
   "cell_type": "code",
   "execution_count": 9,
   "metadata": {},
   "outputs": [],
   "source": [
    "def simulate_blocking_system(arrival_intensity = 1, mean_service_time = 8, num_servers = 10, n = 10000, \n",
    "                             arrival_mode = 'poisson', service_mode = 'exponential', service_params = {}, variance_reduction = False, seed = 0):\n",
    "    \"\"\"\n",
    "        Simulate simple blocking system with discrete events and no waiting room.\n",
    "    \"\"\"\n",
    "    t_system = 0\n",
    "    m = num_servers\n",
    "    servers = np.zeros(m)\n",
    "    blocked = 0 # Counter of number of blocked\n",
    "    np.random.seed(seed)\n",
    "\n",
    "    U1_arrivals = np.random.uniform(0, 1, size = n)\n",
    "    U2_arrivals = np.random.uniform(0, 1, size = n)\n",
    "\n",
    "    if arrival_mode == 'poisson':\n",
    "        arrival_times = rvs_poisson(U = U1_arrivals)\n",
    "    elif arrival_mode == 'hyper':\n",
    "        arrival_times = rvs_hyperexponential(p = 0.8, lambda_1 = 0.8333, lambda_2 = 5., u_1 = U1_arrivals, u_2 = U2_arrivals)\n",
    "\n",
    "    for i in range(n):\n",
    "        # Sample time from which this customer arrives\n",
    "        t_arrival = arrival_times[i]\n",
    "        \n",
    "        # Extend system time\n",
    "        t_system += t_arrival\n",
    "\n",
    "        # Find available server\n",
    "        min_server_idx = np.argmin(servers)\n",
    "\n",
    "        if t_system >= servers[min_server_idx]:\n",
    "            if service_mode == 'exponential':\n",
    "                t_service = stats.expon.rvs(scale=mean_service_time, size = 1)\n",
    "            elif service_mode == 'constant':\n",
    "                t_service = mean_service_time\n",
    "            elif service_mode == 'pareto':\n",
    "                k = service_params.get('k')\n",
    "                t_service = rvs_pareto(mean_ = mean_service_time, k = k, size = 1)\n",
    "            elif service_mode == 'normal':\n",
    "                s = service_params.get('s')\n",
    "                val = stats.norm.rvs(loc = mean_service_time, scale = s, size = 1)\n",
    "                if val < 0:\n",
    "                    val = 0\n",
    "                t_service = val\n",
    "            else:\n",
    "                raise ValueError('Wrong service mode specified')\n",
    "            servers[min_server_idx] = t_system + t_service\n",
    "        else:\n",
    "            blocked += 1\n",
    "\n",
    "    # Compute blocked fraction\n",
    "    blocked_fraction = blocked / n\n",
    "\n",
    "    return blocked_fraction"
   ]
  },
  {
   "cell_type": "code",
   "execution_count": 13,
   "metadata": {},
   "outputs": [
    {
     "name": "stdout",
     "output_type": "stream",
     "text": [
      "\n",
      "p-value, difference between the runs 1.225027533409345e-143\n"
     ]
    }
   ],
   "source": [
    "rounds = 10\n",
    "\n",
    "blocked_fractions = np.zeros((rounds, 2))\n",
    "\n",
    "for r in range(rounds):\n",
    "    blocked_fractions[r] = np.array([simulate_blocking_system(seed = 0, arrival_mode='poisson'), simulate_blocking_system(seed = 0, arrival_mode='hyper')]) \n",
    "\n",
    "p_val = stats.ttest_rel(blocked_fractions[:, 0], blocked_fractions[:, 1]).pvalue\n",
    "print()\n",
    "print(f'p-value, difference between the runs {p_val}')"
   ]
  },
  {
   "attachments": {},
   "cell_type": "markdown",
   "metadata": {},
   "source": [
    "<h3> Exercise 7 </h3>"
   ]
  },
  {
   "cell_type": "code",
   "execution_count": 42,
   "metadata": {},
   "outputs": [
    {
     "name": "stdout",
     "output_type": "stream",
     "text": [
      "Estimate of the probability Z > 4 is 2e-05 with 100000 samples\n"
     ]
    }
   ],
   "source": [
    "n = int(1e5)\n",
    "a = 4\n",
    "res = np.random.randn(n) > a\n",
    "\n",
    "print(f'Estimate of the probability Z > {a} is {np.mean(res)} with {n} samples')"
   ]
  },
  {
   "cell_type": "code",
   "execution_count": 45,
   "metadata": {},
   "outputs": [
    {
     "name": "stdout",
     "output_type": "stream",
     "text": [
      "Estimate of the probability Z > 2 is 0.02276  with 100000 samples\n"
     ]
    }
   ],
   "source": [
    "n = int(1e5)\n",
    "a = 2\n",
    "res = np.random.randn(n) > a\n",
    "\n",
    "print(f'Estimate of the probability Z > {a} is {np.mean(res)}  with {n} samples')"
   ]
  },
  {
   "cell_type": "code",
   "execution_count": 47,
   "metadata": {},
   "outputs": [
    {
     "name": "stdout",
     "output_type": "stream",
     "text": [
      "Estimate of the probability Z > 2 is 0.02255436062249762  with 10000 samples\n",
      "true probability is 0.02275013194817921\n",
      "Estimate of the probability Z > 4 is 3.132127411343129e-05  with 10000 samples\n",
      "true probability is 3.167124183311998e-05\n"
     ]
    }
   ],
   "source": [
    "# Using importance sampling\n",
    "def f(x):\n",
    "    return stats.norm.pdf(x)\n",
    "\n",
    "def g(x, a):\n",
    "    return stats.norm.pdf(x, loc = a, scale = 1)\n",
    "\n",
    "def h(x, a): # indicator function\n",
    "    return x > a\n",
    "\n",
    "n = 10000\n",
    "\n",
    "for a in [2, 4]:\n",
    "    X = stats.norm.rvs(loc = a, scale = 1, size = n)\n",
    "\n",
    "    Z = h(X, a) * f(X) / g(X, a)\n",
    "\n",
    "    true_prob = 1 - stats.norm.cdf(a)\n",
    "\n",
    "    print(f'Estimate of the probability Z > {a} is {np.mean(Z)}  with {n} samples')\n",
    "    print(f'true probability is {true_prob}')\n",
    "\n"
   ]
  },
  {
   "attachments": {},
   "cell_type": "markdown",
   "metadata": {},
   "source": [
    "<h3> Exercise 8 </h3>"
   ]
  },
  {
   "cell_type": "code",
   "execution_count": 69,
   "metadata": {},
   "outputs": [
    {
     "name": "stdout",
     "output_type": "stream",
     "text": [
      "Estimate: 1.7194322627736764\n"
     ]
    }
   ],
   "source": [
    "lambda_ = 1.35483\n",
    "n = 10000\n",
    "\n",
    "X = stats.expon.rvs(scale = 1/lambda_, size = n)\n",
    "\n",
    "def f(X):\n",
    "    n = X.shape[0]\n",
    "    res = np.zeros(n)\n",
    "    for i in range(n):\n",
    "        res[i] = X[i] <= 1 and X[i] >= 0\n",
    "\n",
    "    return res\n",
    "\n",
    "def h(X):\n",
    "    return np.exp(X)\n",
    "\n",
    "def g(X, lambda_):\n",
    "    return lambda_ * np.exp(-lambda_ * X)\n",
    "\n",
    "res = f(X) * h(X) / g(X, lambda_)\n",
    "\n",
    "mean_ = np.mean(res)\n",
    "\n",
    "print(f'Estimate: {mean_}')"
   ]
  }
 ],
 "metadata": {
  "kernelspec": {
   "display_name": "Python 3",
   "language": "python",
   "name": "python3"
  },
  "language_info": {
   "codemirror_mode": {
    "name": "ipython",
    "version": 3
   },
   "file_extension": ".py",
   "mimetype": "text/x-python",
   "name": "python",
   "nbconvert_exporter": "python",
   "pygments_lexer": "ipython3",
   "version": "3.10.10"
  },
  "orig_nbformat": 4
 },
 "nbformat": 4,
 "nbformat_minor": 2
}
