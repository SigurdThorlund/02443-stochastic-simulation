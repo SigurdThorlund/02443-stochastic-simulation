{
 "cells": [
  {
   "cell_type": "code",
   "execution_count": 1,
   "metadata": {},
   "outputs": [],
   "source": [
    "import numpy as np\n",
    "import scipy.stats as stats\n",
    "import matplotlib.pyplot as plt\n",
    "import seaborn as sbn\n",
    "\n",
    "sbn.set()"
   ]
  },
  {
   "attachments": {},
   "cell_type": "markdown",
   "metadata": {},
   "source": [
    "Tasks (SIGURD)\n",
    "\n",
    "- Create cool plot of busy servers\n",
    "- Update text and explain erlang distrbution."
   ]
  },
  {
   "attachments": {},
   "cell_type": "markdown",
   "metadata": {},
   "source": [
    "<h3>(1) Simulate blocking system</h3>"
   ]
  },
  {
   "cell_type": "code",
   "execution_count": 6,
   "metadata": {},
   "outputs": [],
   "source": [
    "def simulate_blocking_system(arrival_intensity = 1, mean_service_time = 8, num_servers = 10, n = 10000, \n",
    "                             arrival_mode = 'poisson', service_mode = 'exponential', service_params = {}):\n",
    "    \"\"\"\n",
    "        Simulate simple blocking system with discrete events and no waiting room.\n",
    "    \"\"\"\n",
    "    t_system = 0\n",
    "    m = num_servers\n",
    "    servers = np.zeros(m)\n",
    "    blocked = 0 # Counter of number of blocked\n",
    "\n",
    "    for _ in range(n):\n",
    "        # Sample time from which this customer arrives\n",
    "        if arrival_mode == 'poisson':\n",
    "            t_arrival = stats.expon.rvs(scale=arrival_intensity, size = 1)\n",
    "        elif arrival_mode == 'erlang':\n",
    "            t_arrival = stats.erlang.rvs(a = 2, scale=arrival_intensity / 2, size = 1)\n",
    "        elif arrival_mode == 'hyper':\n",
    "            t_arrival = rvs_hyperexponential(p = 0.8, lambda_1 = 0.8333, lambda_2 = 5.0)\n",
    "        else:\n",
    "            raise ValueError('Wrong arrival mode specified!')\n",
    "        \n",
    "        # Extend system time\n",
    "        t_system += t_arrival\n",
    "\n",
    "        # Find available server\n",
    "        min_server_idx = np.argmin(servers)\n",
    "\n",
    "        if t_system >= servers[min_server_idx]:\n",
    "            if service_mode == 'exponential':\n",
    "                t_service = stats.expon.rvs(scale=mean_service_time, size = 1)\n",
    "            elif service_mode == 'constant':\n",
    "                t_service = mean_service_time\n",
    "            elif service_mode == 'pareto':\n",
    "                k = service_params.get('k')\n",
    "                t_service = rvs_pareto(mean_ = mean_service_time, k = k, size = 1)\n",
    "            elif service_mode == 'normal':\n",
    "                s = service_params.get('s')\n",
    "                val = stats.norm.rvs(loc = mean_service_time, scale = s, size = 1)\n",
    "                if val < 0:\n",
    "                    val = 0\n",
    "                t_service = val\n",
    "            else:\n",
    "                raise ValueError('Wrong service mode specified')\n",
    "            servers[min_server_idx] = t_system + t_service\n",
    "        else:\n",
    "            blocked += 1\n",
    "\n",
    "    # Compute blocked fraction\n",
    "    blocked_fraction = blocked / n\n",
    "\n",
    "    return blocked_fraction\n",
    "\n",
    "def rvs_hyperexponential(p = 0.8, lambda_1 = 0.83, lambda_2 = 5.0, size = 1):    \n",
    "    choices = stats.binom.rvs(p = 1 - p, n = 1, size = size)\n",
    "    results = np.zeros(size)\n",
    "\n",
    "    for i, choice in enumerate(choices):\n",
    "        if choice == 0:\n",
    "            results[i] =  stats.expon.rvs(scale = 1 / lambda_1, size = 1)    \n",
    "        else:\n",
    "            results[i] = stats.expon.rvs(scale = 1 / lambda_2, size = 1)\n",
    "\n",
    "    return results\n",
    "\n",
    "def rvs_pareto(mean_ = 8, k = 1.05, size = 1):\n",
    "    # Find the value of Beta\n",
    "    beta = mean_ * (k - 1) / k\n",
    "\n",
    "    # Generate uniform numbers \n",
    "    U = np.random.uniform(0, 1, size = size)\n",
    "    X = beta * (U ** (-1/k))\n",
    "\n",
    "    return X\n",
    "\n",
    "def confidence_interval(vals, alpha = 0.05):\n",
    "    if type(vals) != np.ndarray:\n",
    "        vals = np.array(vals)\n",
    "\n",
    "    n = len(vals)\n",
    "\n",
    "    mean_ = np.mean(vals)\n",
    "    std_error = np.sqrt( 1 / (n - 1) * np.sum((vals - mean_) ** 2))\n",
    "\n",
    "    t = stats.t.ppf(1 - (alpha / 2), df = n - 1 )\n",
    "\n",
    "    conf = [mean_ - t * std_error / np.sqrt(n), mean_ + t * std_error / np.sqrt(n)]\n",
    "\n",
    "    return np.array(conf)\n",
    "\n",
    "def analytical_blocking_system(arrival_intensity = 1, mean_service_time = 8, num_servers = 10):\n",
    "    lambda_ = arrival_intensity\n",
    "    s = mean_service_time\n",
    "    m = num_servers\n",
    "    A = lambda_ * s\n",
    "\n",
    "    temp = np.array([A ** i / np.math.factorial(i) for i in np.arange(0, m + 1, 1)])\n",
    "\n",
    "    B = (A ** m / np.math.factorial(m)) / (temp.sum())\n",
    "\n",
    "    return B\n"
   ]
  },
  {
   "attachments": {},
   "cell_type": "markdown",
   "metadata": {},
   "source": [
    "Compute analytical solution and compare to the confidence interval of the simulated solution"
   ]
  },
  {
   "cell_type": "code",
   "execution_count": 7,
   "metadata": {},
   "outputs": [
    {
     "name": "stdout",
     "output_type": "stream",
     "text": [
      "Simulated Blocked fraction confidence interval: [11.62%, 12.28%]\n",
      "Analytical Blocked fraction: 12.17%\n"
     ]
    }
   ],
   "source": [
    "simulated_fractions = []\n",
    "\n",
    "for i in range(10):\n",
    "    blocked_fraction = simulate_blocking_system()\n",
    "    simulated_fractions.append(blocked_fraction)\n",
    "\n",
    "conf = confidence_interval(simulated_fractions)\n",
    "\n",
    "analytical_blocked_fraction = analytical_blocking_system() \n",
    "\n",
    "print_conf = conf * 100\n",
    "\n",
    "print(f'Simulated Blocked fraction confidence interval: [{print_conf[0]:.2f}%, {print_conf[1]:.2f}%]')\n",
    "print(f'Analytical Blocked fraction: {analytical_blocked_fraction * 100:.2f}%')"
   ]
  },
  {
   "attachments": {},
   "cell_type": "markdown",
   "metadata": {},
   "source": [
    "The analytical solution is inside the confidence interval of the simulated solution so it seems that the solution is correct"
   ]
  },
  {
   "attachments": {},
   "cell_type": "markdown",
   "metadata": {},
   "source": [
    "<h3>(2) Experiment with different distributions of arrival time</h3>"
   ]
  },
  {
   "cell_type": "code",
   "execution_count": 8,
   "metadata": {},
   "outputs": [
    {
     "name": "stdout",
     "output_type": "stream",
     "text": [
      "Blocked fraction values of different arrival modes\n",
      "--------------------------------------------------\n",
      "arrival mode: poisson, conf_int = [11.55%, 12.44%]\n",
      "arrival mode: erlang, conf_int = [8.88%, 9.74%]\n",
      "arrival mode: hyper, conf_int = [13.73%, 14.37%]\n"
     ]
    }
   ],
   "source": [
    "def experiment_arrival_time_distributions():\n",
    "    arrival_modes = ['poisson', 'erlang', 'hyper']\n",
    "\n",
    "    print('Blocked fraction values of different arrival modes')\n",
    "    print('-' * 50)\n",
    "    for mode in arrival_modes:\n",
    "\n",
    "        rounds = 10\n",
    "\n",
    "        block_sims = np.zeros(rounds)\n",
    "\n",
    "        for r in range(rounds):\n",
    "            block_sims[r] = simulate_blocking_system(arrival_mode=mode)\n",
    "\n",
    "        conf_int = confidence_interval(block_sims, alpha = 0.05)\n",
    "        print_conf_int = conf_int * 100\n",
    "\n",
    "        print(f'arrival mode: {mode}, conf_int = [{print_conf_int[0]:.2f}%, {print_conf_int[1]:.2f}%]')\n",
    "\n",
    "experiment_arrival_time_distributions()"
   ]
  },
  {
   "attachments": {},
   "cell_type": "markdown",
   "metadata": {},
   "source": [
    "<h3>(3) Experiment with different service-time distributions</h3>"
   ]
  },
  {
   "cell_type": "code",
   "execution_count": 5,
   "metadata": {},
   "outputs": [
    {
     "name": "stdout",
     "output_type": "stream",
     "text": [
      "Blocked fraction values of different service modes\n",
      "--------------------------------------------------\n",
      "service mode: exponential, params: {}, conf_int = [11.62%, 12.50%]\n",
      "service mode: constant, params: {}, conf_int = [12.03%, 12.70%]\n",
      "service mode: pareto, params: {'k': 1.05}, conf_int = [0.01%, 0.13%]\n",
      "service mode: pareto, params: {'k': 2.05}, conf_int = [12.12%, 13.38%]\n",
      "service mode: normal, params: {'s': 2}, conf_int = [11.45%, 12.27%]\n"
     ]
    }
   ],
   "source": [
    "def experiment_service_mode_distributions():\n",
    "    service_modes = ['exponential', 'constant', 'pareto', 'pareto', 'normal']\n",
    "    service_params = [{}, {}, {'k' : 1.05}, {'k' : 2.05}, {'s' : 2}]\n",
    "\n",
    "    print('Blocked fraction values of different service modes')\n",
    "    print('-' * 50)\n",
    "    for i, mode in enumerate(service_modes):\n",
    "\n",
    "        rounds = 10\n",
    "\n",
    "        block_sims = np.zeros(rounds)\n",
    "\n",
    "        for r in range(rounds):\n",
    "            block_sims[r] = simulate_blocking_system(service_mode=mode, service_params=service_params[i])\n",
    "\n",
    "        conf_int = confidence_interval(block_sims, alpha = 0.05)\n",
    "        print_conf_int = conf_int * 100\n",
    "\n",
    "        print(f'service mode: {mode}, params: {service_params[i]}, conf_int = [{print_conf_int[0]:.2f}%, {print_conf_int[1]:.2f}%]')\n",
    "\n",
    "experiment_service_mode_distributions()"
   ]
  },
  {
   "attachments": {},
   "cell_type": "markdown",
   "metadata": {},
   "source": [
    "<h3>(4) Compare differences in confidence intervals for prior tasks</h3>"
   ]
  },
  {
   "attachments": {},
   "cell_type": "markdown",
   "metadata": {},
   "source": [
    "We start by simulating the program with different arrival- and service-time distributions and compare confidence intervals. Every program is simulated 10 times."
   ]
  },
  {
   "cell_type": "code",
   "execution_count": 9,
   "metadata": {},
   "outputs": [
    {
     "name": "stdout",
     "output_type": "stream",
     "text": [
      "Blocked fraction values of different arrival modes\n",
      "--------------------------------------------------\n",
      "arrival mode: poisson, conf_int = [11.57%, 12.48%]\n",
      "arrival mode: erlang, conf_int = [9.05%, 9.67%]\n",
      "arrival mode: hyper, conf_int = [13.01%, 14.12%]\n",
      "\n",
      "Blocked fraction values of different service modes\n",
      "--------------------------------------------------\n",
      "service mode: exponential, params: {}, conf_int = [11.93%, 12.89%]\n",
      "service mode: constant, params: {}, conf_int = [11.60%, 12.56%]\n",
      "service mode: pareto, params: {'k': 1.05}, conf_int = [0.04%, 0.37%]\n",
      "service mode: pareto, params: {'k': 2.05}, conf_int = [11.65%, 12.12%]\n",
      "service mode: normal, params: {'s': 2}, conf_int = [11.88%, 12.12%]\n"
     ]
    }
   ],
   "source": [
    "experiment_arrival_time_distributions()\n",
    "print()\n",
    "experiment_service_mode_distributions()"
   ]
  },
  {
   "attachments": {},
   "cell_type": "markdown",
   "metadata": {},
   "source": [
    "The confidence interval for the different arrival time distributions are quite similar, with the hyperexponentiallly distributed arrival times causing slightly larger block fractions than the exponential and erlang. This does make sense as the standard deviation of the arrival times is higher for this distribution, which can lead to congestion in serving the arrivals. The Erlang distribution with $a = 1$ is the same as the exponential distribution, which would make the arrival times identical.\n",
    "\n",
    "For service modes we get similar results. The block fraction confidence interval is smallest for the constant service time distribution (not counting pareto-distributed service times with k = 1.05), which is to be expected as there is less variability between rounds. Noteably is also that pareto-distributed service times with $k = 1.05$ has the lowest block fraction in general, being almost zero. The mean values of random variables from this distribution is $~2.0$ which is much lower than the mean of the other distributions."
   ]
  }
 ],
 "metadata": {
  "kernelspec": {
   "display_name": "Python 3",
   "language": "python",
   "name": "python3"
  },
  "language_info": {
   "codemirror_mode": {
    "name": "ipython",
    "version": 3
   },
   "file_extension": ".py",
   "mimetype": "text/x-python",
   "name": "python",
   "nbconvert_exporter": "python",
   "pygments_lexer": "ipython3",
   "version": "3.10.10"
  },
  "orig_nbformat": 4
 },
 "nbformat": 4,
 "nbformat_minor": 2
}
