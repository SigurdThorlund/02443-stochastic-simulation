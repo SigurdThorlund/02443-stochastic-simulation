{
 "cells": [
  {
   "cell_type": "code",
   "execution_count": 56,
   "metadata": {},
   "outputs": [],
   "source": [
    "import numpy as np\n",
    "from scipy import stats"
   ]
  },
  {
   "attachments": {},
   "cell_type": "markdown",
   "metadata": {},
   "source": [
    "We define a function to generate a confidence interval given a vector of sampled values"
   ]
  },
  {
   "cell_type": "code",
   "execution_count": 57,
   "metadata": {},
   "outputs": [],
   "source": [
    "def getCI(vals):\n",
    "    n = len(vals)\n",
    "    CL = 0.95 # confidence level\n",
    "    DF = n-1 # degrees of freedom\n",
    "    z = np.abs(stats.t.ppf((1-CL)/2,DF))\n",
    "    mean = np.mean(vals)\n",
    "    std = np.std(vals, ddof = 1)\n",
    "    u = mean + z*std/np.sqrt(n)\n",
    "    l = mean - z*std/np.sqrt(n)\n",
    "    return mean, l, u"
   ]
  },
  {
   "attachments": {},
   "cell_type": "markdown",
   "metadata": {},
   "source": [
    "<h3> (1) Estimate integral using crude Monte Carlo </h3>"
   ]
  },
  {
   "attachments": {},
   "cell_type": "markdown",
   "metadata": {},
   "source": [
    "We sample 100 values from the uniform distribution and apply the crude method to get the estimate of the integral."
   ]
  },
  {
   "cell_type": "code",
   "execution_count": 58,
   "metadata": {},
   "outputs": [
    {
     "name": "stdout",
     "output_type": "stream",
     "text": [
      "The variance of the estimation is: 0.2261\n",
      "The estimate of the integral is: 1.6194\n",
      "With the following confidence interval: 1.5246, 1.7143\n",
      "Analytical solution of the integral: 1.7183\n"
     ]
    }
   ],
   "source": [
    "us = np.random.uniform(0,1, size = 100)\n",
    "exp = np.exp(us)\n",
    "print('The variance of the estimation is: {:.4f}'.format(np.var(exp)))\n",
    "mean, l, u = getCI(exp)\n",
    "print('The estimate of the integral is: {:.4f}'.format(mean))\n",
    "print('With the following confidence interval: {:.4f}, {:.4f}'.format(l,u))\n",
    "print('Analytical solution of the integral: {:.4f}'.format(np.e - 1))"
   ]
  },
  {
   "attachments": {},
   "cell_type": "markdown",
   "metadata": {},
   "source": [
    "<h3> (2) Estimate integral using antithetic variables </h3>"
   ]
  },
  {
   "attachments": {},
   "cell_type": "markdown",
   "metadata": {},
   "source": [
    "We sample 100 values from the uniform distribution and we estimate the integral using antithetic variables"
   ]
  },
  {
   "cell_type": "code",
   "execution_count": 59,
   "metadata": {},
   "outputs": [
    {
     "name": "stdout",
     "output_type": "stream",
     "text": [
      "The variance of the estimation is: 0.0040\n",
      "The estimate of the integral is: 1.7177\n",
      "With the following confidence interval: 1.7051, 1.7303\n",
      "Analytical solution of the integral: 1.7183\n"
     ]
    }
   ],
   "source": [
    "us = np.random.uniform(0,1, size = 100)\n",
    "exp = np.exp(us)\n",
    "y = (exp + np.e/exp)/2\n",
    "\n",
    "print('The variance of the estimation is: {:.4f}'.format(np.var(y)))\n",
    "mean, l, u = getCI(y)\n",
    "print('The estimate of the integral is: {:.4f}'.format(mean))\n",
    "print('With the following confidence interval: {:.4f}, {:.4f}'.format(l,u))\n",
    "print('Analytical solution of the integral: {:.4f}'.format(np.e - 1))"
   ]
  },
  {
   "attachments": {},
   "cell_type": "markdown",
   "metadata": {},
   "source": [
    "Note that the variance is reduced a lot with respect to the crude method"
   ]
  },
  {
   "attachments": {},
   "cell_type": "markdown",
   "metadata": {},
   "source": [
    "<h3> (3) Estimate integral using control variates </h3>"
   ]
  },
  {
   "cell_type": "code",
   "execution_count": 60,
   "metadata": {},
   "outputs": [
    {
     "name": "stdout",
     "output_type": "stream",
     "text": [
      "The variance of the estimation is: 0.0041\n",
      "The estimate of the integral is: 1.7233\n",
      "With the following confidence interval: 1.7106, 1.7360\n",
      "Analytical solution of the integral: 1.7183\n"
     ]
    }
   ],
   "source": [
    "us = np.random.uniform(0,1, size = 100)\n",
    "exp = np.exp(us)\n",
    "c = -np.cov(exp, us)[0,1]/np.var(us)\n",
    "z = exp + c*(us - 1/2)\n",
    "print('The variance of the estimation is: {:.4f}'.format(np.var(z)))\n",
    "mean, l, u = getCI(z)\n",
    "print('The estimate of the integral is: {:.4f}'.format(mean))\n",
    "print('With the following confidence interval: {:.4f}, {:.4f}'.format(l,u))\n",
    "print('Analytical solution of the integral: {:.4f}'.format(np.e - 1))"
   ]
  },
  {
   "attachments": {},
   "cell_type": "markdown",
   "metadata": {},
   "source": [
    "Also in this case the variance is reduced with respect the crude method."
   ]
  },
  {
   "attachments": {},
   "cell_type": "markdown",
   "metadata": {},
   "source": [
    "<h3> (4) Estimate integral using stratified sampling </h3>"
   ]
  },
  {
   "attachments": {},
   "cell_type": "markdown",
   "metadata": {},
   "source": [
    "We use stratified sampling with 10 strata to get the estimate of the integral. Using this method we are able to reduce the variance of the estimation by another order of magnitude"
   ]
  },
  {
   "cell_type": "code",
   "execution_count": 61,
   "metadata": {},
   "outputs": [
    {
     "name": "stdout",
     "output_type": "stream",
     "text": [
      "The variance of the estimation is: 0.0002\n",
      "The estimate of the integral is: 1.7141\n",
      "With the following confidence interval: 1.7039, 1.7242\n",
      "Analytical solution of the integral: 1.7183\n"
     ]
    }
   ],
   "source": [
    "w = [] # The final list will contain ten values for the estimation of the integral\n",
    "for i in range(10):\n",
    "    us = np.random.uniform(0,1,10) # Each sample is based on ten uniformly distributed values\n",
    "    w.append(np.sum([np.exp((j + us[j])/10) for j in range(10)])/10) # Stratified sampling\n",
    "\n",
    "print('The variance of the estimation is: {:.4f}'.format(np.var(w)))\n",
    "mean, l, u = getCI(w)\n",
    "print('The estimate of the integral is: {:.4f}'.format(mean))\n",
    "print('With the following confidence interval: {:.4f}, {:.4f}'.format(l,u))\n",
    "print('Analytical solution of the integral: {:.4f}'.format(np.e - 1))"
   ]
  },
  {
   "attachments": {},
   "cell_type": "markdown",
   "metadata": {},
   "source": [
    "We can note that in all the cases we got quite accurate estimations of the integral, but with different estimations of the variance. In detail, the crude Monte Carlo estimation has the most variance, which is then reduced in the other methods. This is reflected also by the width of the confidence intervals."
   ]
  },
  {
   "attachments": {},
   "cell_type": "markdown",
   "metadata": {},
   "source": [
    "<h3> (5) Control variates for blocking queueing system simulation </h3>"
   ]
  },
  {
   "attachments": {},
   "cell_type": "markdown",
   "metadata": {},
   "source": [
    "We use the control variate method to reduce the variance in the estimation of the blocked fraction of customers in the queueing system problem. As control variate, we use the mean arrival time in the simulation."
   ]
  },
  {
   "attachments": {},
   "cell_type": "markdown",
   "metadata": {},
   "source": [
    "The following function simulates the problem using a Poisson process for the arrivals and exponential service times. It returns the fraction of blocked customers and the mean arrival time."
   ]
  },
  {
   "cell_type": "code",
   "execution_count": 82,
   "metadata": {},
   "outputs": [],
   "source": [
    "def simulate_queue(nserver, customers, mean_st, mean_tbc):\n",
    "    server_time = np.zeros(nserver)\n",
    "    time = 0\n",
    "    blocked = 0\n",
    "    t_arrival_time = 0\n",
    "    for _ in range(customers):\n",
    "        delta_arrival_time = stats.expon.rvs(scale = mean_tbc, size = 1)[0]\n",
    "        t_arrival_time += delta_arrival_time\n",
    "        time += delta_arrival_time\n",
    "        min_server = np.min(server_time)\n",
    "        idx_min_server = np.argmin(server_time)\n",
    "        if time < min_server:\n",
    "            blocked +=1\n",
    "        else:\n",
    "            delta_service_time = stats.expon.rvs(scale = mean_st, size = 1)\n",
    "            server_time[idx_min_server] = time + delta_service_time\n",
    "    \n",
    "    return blocked/customers, t_arrival_time/customers"
   ]
  },
  {
   "attachments": {},
   "cell_type": "markdown",
   "metadata": {},
   "source": [
    "We initialize some parameters of interest"
   ]
  },
  {
   "cell_type": "code",
   "execution_count": 84,
   "metadata": {},
   "outputs": [],
   "source": [
    "nserver = 10 # number of service units\n",
    "mean_st = 8 # mean service time\n",
    "mean_tbc = 1 # mean time between customers\n",
    "customers = 10000 #number of customers for each simulation\n",
    "nsim = 10 # number of simulations"
   ]
  },
  {
   "attachments": {},
   "cell_type": "markdown",
   "metadata": {},
   "source": [
    "Then we perform ten simulations, saving for each one the fraction of blocked customers and the mean arrival time"
   ]
  },
  {
   "cell_type": "code",
   "execution_count": 101,
   "metadata": {},
   "outputs": [],
   "source": [
    "runs = [] # this list will contain the fraction of blocked customers for each simulation\n",
    "arrivals = [] # this list will contain the mean arrival time for each simulation\n",
    "for i in range(nsim):\n",
    "    blocked, arrival = simulate_queue(nserver, customers, mean_st, mean_tbc)\n",
    "    runs.append(blocked)\n",
    "    arrivals.append(arrival)"
   ]
  },
  {
   "attachments": {},
   "cell_type": "markdown",
   "metadata": {},
   "source": [
    "We use the control variates method to reduce the variance in the estimation"
   ]
  },
  {
   "cell_type": "code",
   "execution_count": 102,
   "metadata": {},
   "outputs": [
    {
     "name": "stdout",
     "output_type": "stream",
     "text": [
      "The estimate of the fraction of blocked customers (without variance reduction) is: 0.1208\n",
      "With the following confidence interval: 0.1158, 0.1257\n",
      "\n",
      "The estimate of the fraction of blocked customers (with variance reduction) is: 0.1196\n",
      "With the following confidence interval: 0.1168, 0.1224\n",
      "The variance without control variates is: 4.362840000000002e-05\n",
      "The variance with control variates is: 1.4024515859755557e-05\n"
     ]
    }
   ],
   "source": [
    "runs = np.array(runs)\n",
    "arrivals = np.array(arrivals)\n",
    "\n",
    "c = -np.cov(runs, arrivals)[0,1]/np.var(arrivals)\n",
    "\n",
    "z = runs + c*(arrivals - mean_tbc)\n",
    "\n",
    "mean_r, l_r, u_r = getCI(runs)\n",
    "mean_z, l_z, u_z = getCI(z)\n",
    "\n",
    "print('The estimate of the fraction of blocked customers (without variance reduction) is: {:.4f}'.format(mean_r))\n",
    "print('With the following confidence interval: {:.4f}, {:.4f}\\n'.format(l_r,u_r))\n",
    "\n",
    "print('The estimate of the fraction of blocked customers (with variance reduction) is: {:.4f}'.format(mean_z))\n",
    "print('With the following confidence interval: {:.4f}, {:.4f}'.format(l_z,u_z))\n",
    "\n",
    "print('The variance without control variates is:',np.var(runs))\n",
    "print('The variance with control variates is:',np.var(z))"
   ]
  },
  {
   "attachments": {},
   "cell_type": "markdown",
   "metadata": {},
   "source": [
    "We can note that the variance has been reduced using control variates"
   ]
  },
  {
   "attachments": {},
   "cell_type": "markdown",
   "metadata": {},
   "source": [
    "<h3> (6) Common random numbers in queueing system simulation </h3>"
   ]
  },
  {
   "attachments": {},
   "cell_type": "markdown",
   "metadata": {},
   "source": [
    "We define two functions able to sample from the exponential and hyperexponential distributions given some samples drawn from the uniform distribution passed as parameters."
   ]
  },
  {
   "cell_type": "code",
   "execution_count": null,
   "metadata": {},
   "outputs": [],
   "source": [
    "def getExp(lam, us):\n",
    "    exp = -np.log(us)/lam\n",
    "    return exp \n",
    "\n",
    "def getHyperExp(p, lam1, lam2, u1, u2):\n",
    "    res = np.zeros(len(u1))\n",
    "    res[u2 <= p] = getExp(lam = lam1, us = u1[u2 <=p])\n",
    "    res[u2 > p] = getExp(lam = lam2, us = u1[u2 > p])\n",
    "    return res"
   ]
  },
  {
   "attachments": {},
   "cell_type": "markdown",
   "metadata": {},
   "source": [
    "For the Common Random Numbers method to work, we need to ensure that the two systems (one having exponential inter-arrival times, the other hyperexponential), run on the same sequence of random numbers, uniformly distributed between 0 and 1. To do so, we let the caller of the function set a seed that is then used to sample the sequence of values used to obtain the arrival times. The aim is to call the function in both types 'Exp' (corresponding to exponential arrival times) and 'Hyp' (hyperexponential arrival times) with the same seed, so we can fairly compare the results."
   ]
  },
  {
   "cell_type": "code",
   "execution_count": 103,
   "metadata": {},
   "outputs": [],
   "source": [
    "def simulate_queue_q2(nserver, customers, mean_st, mean_tbc, type = 'Exp', seed = 0):\n",
    "    np.random.seed(seed)\n",
    "    u1 = np.random.uniform(0,1, customers)\n",
    "    u2 = np.random.uniform(0,1, customers)\n",
    "    server_time = np.zeros(nserver)\n",
    "    time = 0\n",
    "    blocked = 0\n",
    "    if type == 'Exp':\n",
    "        arrival_times = getExp(lam = mean_tbc, us = u1)\n",
    "    elif type == 'Hyp':\n",
    "        arrival_times = getHyperExp(0.8, 0.8333, 5, u1, u2)\n",
    "    for i in range(customers):\n",
    "        delta_arrival_time = arrival_times[i]\n",
    "        time += delta_arrival_time\n",
    "        min_server = np.min(server_time)\n",
    "        idx_min_server = np.argmin(server_time)\n",
    "        if time < min_server:\n",
    "            blocked += 1\n",
    "        else:\n",
    "            server_time[idx_min_server] = time + stats.expon.rvs(scale = mean_st, size = 1)\n",
    "    \n",
    "    return blocked/customers"
   ]
  },
  {
   "attachments": {},
   "cell_type": "markdown",
   "metadata": {},
   "source": [
    "We initialize the parameters"
   ]
  },
  {
   "cell_type": "code",
   "execution_count": 104,
   "metadata": {},
   "outputs": [],
   "source": [
    "nserver = 10\n",
    "mean_st = 8\n",
    "mean_tbc = 1\n",
    "customers = 10000\n",
    "nsim = 10"
   ]
  },
  {
   "attachments": {},
   "cell_type": "markdown",
   "metadata": {},
   "source": [
    "We perform ten simulations of the two processes using ten different seeds, saving the blocked fraction of customers for each run. Then we perform a paired t-test to see if there is a difference between the two processes."
   ]
  },
  {
   "cell_type": "code",
   "execution_count": 107,
   "metadata": {},
   "outputs": [
    {
     "name": "stdout",
     "output_type": "stream",
     "text": [
      "Ttest_relResult(statistic=16.68412262034125, pvalue=4.462657602263569e-08)\n",
      "Estimated difference between the two processes: 0.0191\n"
     ]
    }
   ],
   "source": [
    "runs = []\n",
    "for i in range(10):\n",
    "    runs.append([simulate_queue_q2(nserver, customers, mean_st, mean_tbc, 'Hyp', i), simulate_queue_q2(nserver, customers, mean_st, mean_tbc, 'Exp', i)])\n",
    "\n",
    "runs = np.array(runs)\n",
    "\n",
    "print(stats.ttest_rel(runs[:,0], runs[:,1]))\n",
    "print('Estimated difference between the two processes: {:.4f}'.format(np.mean(runs[:,0] - runs[:,1])))"
   ]
  },
  {
   "attachments": {},
   "cell_type": "markdown",
   "metadata": {},
   "source": [
    "The p-value is very low, indicating a strong suggestion that the two processes perform differently. The estimation of the difference in performance is almost 2%, as printed above"
   ]
  },
  {
   "attachments": {},
   "cell_type": "markdown",
   "metadata": {},
   "source": [
    "<h3> (7) Monte Carlo on standard normal random variable </h3>"
   ]
  },
  {
   "attachments": {},
   "cell_type": "markdown",
   "metadata": {},
   "source": [
    "First, we use the crude Monte Carlo method to estimated the desired probability, sampling 10000 values from the standard normal distribution and seeing how many are above the threshold. This will give a rough estimate of the probability. "
   ]
  },
  {
   "cell_type": "code",
   "execution_count": 65,
   "metadata": {},
   "outputs": [
    {
     "name": "stdout",
     "output_type": "stream",
     "text": [
      "The estimate of the probability is: 0.000100\n",
      "With the following confidence interval: -0.000096, 0.000296\n",
      "The true value for the probability is: 0.000032\n"
     ]
    }
   ],
   "source": [
    "a = 4\n",
    "tot = 10000\n",
    "values = np.random.randn(tot) > a\n",
    "\n",
    "mean, l, u = getCI(values)\n",
    "print('The estimate of the probability is: {:.6f}'.format(mean))\n",
    "print('With the following confidence interval: {:.6f}, {:.6f}'.format(l,u))\n",
    "print('The true value for the probability is: {:.6f}'.format(1 - stats.norm.cdf(a)))"
   ]
  },
  {
   "attachments": {},
   "cell_type": "markdown",
   "metadata": {},
   "source": [
    "Using a=2 we get somewhat accurate estimation of the probability, while for a=4 the result is much worse, because we are estimating the probability of a more extreme outcome and crude Monte Carlo struggles to estimate it with few samples. We would therefore need more samples to estimate it correctly."
   ]
  },
  {
   "attachments": {},
   "cell_type": "markdown",
   "metadata": {},
   "source": [
    "The problem can be solved using Importance Sampling as follows, always using 10000 samples."
   ]
  },
  {
   "cell_type": "code",
   "execution_count": 66,
   "metadata": {},
   "outputs": [
    {
     "name": "stdout",
     "output_type": "stream",
     "text": [
      "The estimate of the probability is: 0.000033\n",
      "With the following confidence interval: 0.000031, 0.000034\n",
      "The true value for the probability is: 0.000032\n"
     ]
    }
   ],
   "source": [
    "a = 4\n",
    "s = 1\n",
    "tot = 10000\n",
    "\n",
    "samples = stats.norm.rvs(loc = a, scale = s, size = tot)\n",
    "\n",
    "h = samples > a\n",
    "f = stats.norm.pdf(samples)\n",
    "g = stats.norm.pdf(samples, loc = a, scale = s)\n",
    "\n",
    "Z = h * f / g\n",
    "\n",
    "mean, l, u = getCI(Z)\n",
    "print('The estimate of the probability is: {:.6f}'.format(mean))\n",
    "print('With the following confidence interval: {:.6f}, {:.6f}'.format(l,u))\n",
    "print('The true value for the probability is: {:.6f}'.format(1 - stats.norm.cdf(a)))"
   ]
  },
  {
   "attachments": {},
   "cell_type": "markdown",
   "metadata": {},
   "source": [
    "<h3> (8) Exponential importance sampling </h3>"
   ]
  },
  {
   "attachments": {},
   "cell_type": "markdown",
   "metadata": {},
   "source": [
    "We include a photo for the derivation of the value of λ which minimizes the required variance"
   ]
  },
  {
   "attachments": {},
   "cell_type": "markdown",
   "metadata": {},
   "source": [
    "![picture 1](../images/cce642c549bddefeb7e43662c6ea703da81334325ef94f3f5ae6f03b234186fb.png)  \n"
   ]
  },
  {
   "attachments": {},
   "cell_type": "markdown",
   "metadata": {},
   "source": [
    "We verify the result using simulation, using the value of λ found analytically"
   ]
  },
  {
   "cell_type": "code",
   "execution_count": 67,
   "metadata": {},
   "outputs": [
    {
     "name": "stdout",
     "output_type": "stream",
     "text": [
      "The estimate of the integral is: 1.7278\n",
      "With the following confidence interval: 1.7168, 1.7388\n",
      "Analytical solution of the integral: 1.7183\n",
      "The estimated variance is the following: 3.1552\n"
     ]
    }
   ],
   "source": [
    "lam = 1.35483\n",
    "size = 100000\n",
    "\n",
    "values = stats.expon.rvs(scale = 1/lam, size = size) # we get values from the sample distribution g\n",
    "\n",
    "f = np.logical_and(values <= 1, values>=0)\n",
    "h = np.exp(values)\n",
    "g = lam*np.exp(-lam*values)\n",
    "\n",
    "res = f * h / g\n",
    "\n",
    "mean, l, u = getCI(res)\n",
    "print('The estimate of the integral is: {:.4f}'.format(mean))\n",
    "print('With the following confidence interval: {:.4f}, {:.4f}'.format(l,u))\n",
    "print('Analytical solution of the integral: {:.4f}'.format(np.e - 1))\n",
    "print('The estimated variance is the following: {:.4f}'.format(np.var(res, ddof = 1)))"
   ]
  },
  {
   "attachments": {},
   "cell_type": "markdown",
   "metadata": {},
   "source": [
    "We can see that we have a good estimation of the integral, but with a large variance with respect to the method used in the first exercises of this notebook."
   ]
  },
  {
   "attachments": {},
   "cell_type": "markdown",
   "metadata": {},
   "source": [
    "<h3> (9) Pareto IS estimator </h3>"
   ]
  },
  {
   "attachments": {},
   "cell_type": "markdown",
   "metadata": {},
   "source": [
    "We perform importance sampling for the estimation of the mean for the Pareto distribution. The sampling distribution is the first moment distribution: in the Pareto case, this is distributed again as a Pareto with the k parameter decreased by 1. Note that we use β = 1."
   ]
  },
  {
   "cell_type": "code",
   "execution_count": 116,
   "metadata": {},
   "outputs": [
    {
     "name": "stdout",
     "output_type": "stream",
     "text": [
      "The estimate of the mean is: 21.000000000000075\n",
      "With the following confidence interval: 21.00000000000007,21.000000000000078\n",
      "Analytical value of the mean: 20.999999999999982\n"
     ]
    }
   ],
   "source": [
    "k = 1.05\n",
    "size = 10000\n",
    "values = stats.pareto.rvs(k-1, size = size) # getting values from the sampling distribution\n",
    "\n",
    "h = values\n",
    "f = stats.pareto.pdf(values, k)\n",
    "g = stats.pareto.pdf(values, k-1)\n",
    "\n",
    "res = h * f / g\n",
    "\n",
    "mean, l, u = getCI(res)\n",
    "print(f'The estimate of the mean is: {mean}')\n",
    "print(f'With the following confidence interval: {l},{u}')\n",
    "print(f'Analytical value of the mean: {k/(k-1)}')"
   ]
  },
  {
   "attachments": {},
   "cell_type": "markdown",
   "metadata": {},
   "source": [
    "Using importance sampling in this case is very helpful since it allows to estimate the mean with very high precision: this task is very difficult with the simple estimation, as seen in exercise 3."
   ]
  }
 ],
 "metadata": {
  "kernelspec": {
   "display_name": "Python 3",
   "language": "python",
   "name": "python3"
  },
  "language_info": {
   "codemirror_mode": {
    "name": "ipython",
    "version": 3
   },
   "file_extension": ".py",
   "mimetype": "text/x-python",
   "name": "python",
   "nbconvert_exporter": "python",
   "pygments_lexer": "ipython3",
   "version": "3.10.11"
  },
  "orig_nbformat": 4
 },
 "nbformat": 4,
 "nbformat_minor": 2
}
