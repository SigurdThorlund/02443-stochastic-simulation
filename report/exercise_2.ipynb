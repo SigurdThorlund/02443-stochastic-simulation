{
 "cells": [
  {
   "cell_type": "code",
   "execution_count": 111,
   "metadata": {},
   "outputs": [],
   "source": [
    "import numpy as np\n",
    "import random\n",
    "import matplotlib.pyplot as plt\n",
    "import scipy.stats as scs\n",
    "import timeit"
   ]
  },
  {
   "cell_type": "markdown",
   "metadata": {},
   "source": [
    "<!-- Tasks (FILIP)\n",
    "\n",
    "#- Put into Notebook format\n",
    "- Copy text from latex into notebook\n",
    "- Discuss runtimes of different methods\n",
    "- Insert (3) and (4). -->"
   ]
  },
  {
   "cell_type": "markdown",
   "metadata": {},
   "source": [
    "<h1> Exercise 2: Discrete random variables"
   ]
  },
  {
   "cell_type": "markdown",
   "metadata": {},
   "source": [
    "<h3> (1) Geometric distributions"
   ]
  },
  {
   "cell_type": "markdown",
   "metadata": {},
   "source": [
    "For sampling values from the geometric distribution, a function is defined. The function is used to sample 10000 values, for three different values of p. The histogrammes are compared below."
   ]
  },
  {
   "cell_type": "code",
   "execution_count": 112,
   "metadata": {},
   "outputs": [
    {
     "data": {
      "image/png": "[encoded data removed]",
      "text/plain": [
       "<Figure size 432x288 with 3 Axes>"
      ]
     },
     "metadata": {
      "needs_background": "light"
     },
     "output_type": "display_data"
    }
   ],
   "source": [
    "def geom(p,N):\n",
    "    U = np.random.random(N)\n",
    "    return np.floor(np.log(U)/np.log(1-p)) + 1\n",
    "p1,p2,p3=0.03,0.37,0.85\n",
    "gm1,gm2,gm3 = geom(p1,10000),geom(p2,10000),geom(p3,10000)\n",
    "\n",
    "#Histograms\n",
    "plt.figure()\n",
    "plt.subplot(1, 3, 1)\n",
    "plt.hist(gm1,density=True)\n",
    "plt.title(\"p=0.03\")\n",
    "\n",
    "plt.subplot(1, 3, 2)\n",
    "plt.hist(gm2,density=True,color='red')\n",
    "plt.title(\"p=0.37\")\n",
    "plt.subplot(1, 3, 3)\n",
    "plt.hist(gm3,density=True,color='green')\n",
    "plt.title(\"p=0.85\")\n",
    "plt.tight_layout()\n"
   ]
  },
  {
   "cell_type": "markdown",
   "metadata": {},
   "source": [
    "The histogrammes clearly show geometric distributions with different shapes."
   ]
  },
  {
   "cell_type": "markdown",
   "metadata": {},
   "source": [
    "<h3> (2) 6-point distribution"
   ]
  },
  {
   "cell_type": "markdown",
   "metadata": {},
   "source": [
    "We can simulate the given 6-point distribution using the three methods; ’the crude method',\n",
    "the 'rejection method' and the 'alias method'.\n",
    "In all the methods, uniformly distributed random numbers are generated and used to sample\n",
    "from the desired distribution. The implementations are made in a way such that a list of uniform random numbers are already available (for testing purposes) - this is true except for when the rejection method has rejected a value."
   ]
  },
  {
   "cell_type": "code",
   "execution_count": 113,
   "metadata": {},
   "outputs": [],
   "source": [
    "n = 1000000\n",
    "np.random.seed(12346) #set random seed\n",
    "randoms = np.random.uniform(size=(n,2))"
   ]
  },
  {
   "cell_type": "markdown",
   "metadata": {},
   "source": [
    "<h4> (2a) The Crude Method"
   ]
  },
  {
   "cell_type": "markdown",
   "metadata": {},
   "source": [
    "The direct method makes use of the CDF, of the given distribution - note that the function is discrete. A uniform random number is generated. The random number will land in one of the probability intervals (on the CDF) for each outcome. When the random number lands within this interval, the corresponding outcome is chosen. "
   ]
  },
  {
   "cell_type": "code",
   "execution_count": 114,
   "metadata": {},
   "outputs": [],
   "source": [
    "p = np.array([7/48,5/48,1/8,1/16,1/4,5/16])\n",
    "pa = np.cumsum(p)\n",
    "\n",
    "def ncrude(nn):\n",
    "    ss = np.zeros(nn)\n",
    "    #U = np.random.uniform(size=nn)\n",
    "    Uc = randoms[0:nn,0].copy()\n",
    "    for j in range(nn):\n",
    "        for i in range(6):\n",
    "            if Uc[j] < pa[i]:\n",
    "                ss[j] = i+1\n",
    "                break\n",
    "    return ss"
   ]
  },
  {
   "cell_type": "markdown",
   "metadata": {},
   "source": [
    "<h4> (2b) The Rejection Method"
   ]
  },
  {
   "cell_type": "markdown",
   "metadata": {},
   "source": [
    "The rejection method works differently. It generates two uniform random numbers, whereof one of them is used to generate a potential number from the distribution (1-6), while the other is used to simulate the probability of that outcome being accepted/rejected. "
   ]
  },
  {
   "cell_type": "code",
   "execution_count": 115,
   "metadata": {},
   "outputs": [],
   "source": [
    "k = 6\n",
    "q = 1/k\n",
    "c = max(p)/q\n",
    "def nrejection(nn):\n",
    "    ss = np.zeros(nn)\n",
    "    Ur = randoms[0:nn,:].copy()#np.random.uniform(size=[nn,2])\n",
    "    #U1 = np.random.uniform(size=nn)\n",
    "    #U2 = np.random.random(nn)\n",
    "    for j in range(nn):\n",
    "        while(ss[j]==0):\n",
    "            Y = int(k*Ur[j,0])+1\n",
    "            if Ur[j,1] <= p[Y-1]/(c*q):\n",
    "                ss[j] = Y\n",
    "                break\n",
    "            else:\n",
    "                Ur[j,0],Ur[j,1] = np.random.uniform(size=2)\n",
    "    return ss"
   ]
  },
  {
   "cell_type": "markdown",
   "metadata": {},
   "source": [
    "<h4> The Alias Method"
   ]
  },
  {
   "cell_type": "markdown",
   "metadata": {},
   "source": [
    "For the alias method, a set of auxillary tables has to be set up. Like in the rejection method, two uniform random numbers are generated. However, unlike the rejection method, a set of numbers cannot be fully rejected - but are used for choosing an outcome. The method is implemented below."
   ]
  },
  {
   "cell_type": "code",
   "execution_count": 116,
   "metadata": {},
   "outputs": [],
   "source": [
    "#Setup for alias using pseudo-code from slides\n",
    "L=np.ones(k)*range(k)\n",
    "F=k*p\n",
    "G = np.where(F>=1)[0]\n",
    "S = np.where(F<=1)[0]\n",
    "while np.size(S)>0:\n",
    "    i = G[0]\n",
    "    j = S[0]\n",
    "    L[j] = i+1\n",
    "    F[i] = F[i] - (1 - F[j])\n",
    "    \n",
    "    if F[i] < 1-0.000001:\n",
    "        G = np.delete(G,0)\n",
    "        S = np.append(S,i)\n",
    "    S = np.delete(S,0)\n",
    "\n",
    "#The alias method\n",
    "def nalias(nn):\n",
    "    ss = np.zeros(nn)\n",
    "    UA = randoms[0:nn,:].copy()\n",
    "    for j in range(nn):\n",
    "        I = (np.floor(k*UA[j,0]) + 1).astype(int)\n",
    "        if UA[j,1] <= F[I-1]:\n",
    "            ss[j] = I\n",
    "        else:\n",
    "            ss[j] = L[I-1]\n",
    "    return ss"
   ]
  },
  {
   "cell_type": "markdown",
   "metadata": {},
   "source": [
    "<h3> (3) Comparison of the methods"
   ]
  },
  {
   "cell_type": "markdown",
   "metadata": {},
   "source": [
    "The three methods' precision and efficiency can be compared. Histograms and runtimes are examined."
   ]
  },
  {
   "cell_type": "code",
   "execution_count": 117,
   "metadata": {},
   "outputs": [
    {
     "data": {
      "text/plain": [
       "<matplotlib.legend.Legend at 0x2b0ab064b38>"
      ]
     },
     "execution_count": 117,
     "metadata": {},
     "output_type": "execute_result"
    },
    {
     "data": {
      "image/png": "[encoded data removed]",
      "text/plain": [
       "<Figure size 432x288 with 1 Axes>"
      ]
     },
     "metadata": {
      "needs_background": "light"
     },
     "output_type": "display_data"
    }
   ],
   "source": [
    "N_samples = 10000\n",
    "p = np.array([7/48,5/48,1/8,1/16,1/4,5/16])\n",
    "pp = p.tolist()\n",
    "pp.append(p[-1])\n",
    "plt.hist(ncrude(N_samples),bins=[0.5,1.5,2.5,3.5,4.5,5.5,6.5],density=1,rwidth=1,edgecolor='red',color='red',alpha=1,histtype='step',label=\"Crude\")\n",
    "plt.hist(nrejection(N_samples),bins=[0.5,1.5,2.5,3.5,4.5,5.5,6.5],density=1,rwidth=1,edgecolor='blue',color='blue',alpha=1,histtype='step',label=\"Reject\")\n",
    "plt.hist(nalias(N_samples),bins=[0.5,1.5,2.5,3.5,4.5,5.5,6.5],density=1,rwidth=1,edgecolor='green',color='green',alpha=1,histtype='step',label=\"Alias\")\n",
    "plt.step([0.5,1.5,2.5,3.5,4.5,5.5,6.5],pp,'--',where=\"post\",color=\"gold\",label=\"True probability\")\n",
    "\n",
    "plt.legend()"
   ]
  },
  {
   "cell_type": "code",
   "execution_count": 118,
   "metadata": {},
   "outputs": [
    {
     "data": {
      "text/plain": [
       "<matplotlib.legend.Legend at 0x2b0a9058240>"
      ]
     },
     "execution_count": 118,
     "metadata": {},
     "output_type": "execute_result"
    },
    {
     "data": {
      "image/png": "[encoded data removed]",
      "text/plain": [
       "<Figure size 432x288 with 1 Axes>"
      ]
     },
     "metadata": {
      "needs_background": "light"
     },
     "output_type": "display_data"
    }
   ],
   "source": [
    "N_samples = 10000\n",
    "sims = 50\n",
    "\n",
    "sC = np.zeros(sims)\n",
    "sR = np.zeros(sims)\n",
    "sA = np.zeros(sims)\n",
    "\n",
    "for s in range(sims):   \n",
    "    #efficient list methods\n",
    "    startC = timeit.default_timer()\n",
    "    ncrude(N_samples)\n",
    "    stopC = timeit.default_timer()\n",
    "    \n",
    "    startR = timeit.default_timer()\n",
    "    nrejection(N_samples)\n",
    "    stopR = timeit.default_timer()\n",
    "    \n",
    "    startA = timeit.default_timer()\n",
    "    nalias(N_samples)\n",
    "    stopA = timeit.default_timer()\n",
    "    sC[s] = (stopC-startC)\n",
    "    sR[s] = (stopR-startR)\n",
    "    sA[s] = (stopA-startA)\n",
    "\n",
    "plt.plot(sC,color=\"red\",label=\"crude\")\n",
    "plt.plot(sR,color=\"blue\",label=\"reject\")\n",
    "plt.plot(sA,color=\"green\",label=\"alias\")\n",
    "plt.xlabel(\"Simulation\")\n",
    "plt.ylabel(\"Runtime[s]\")\n",
    "plt.legend()"
   ]
  },
  {
   "cell_type": "markdown",
   "metadata": {},
   "source": [
    "It can be observed that the histogrammes are very similar. The runtime of the rejection method is the highest, while the lowest is for the crude method."
   ]
  },
  {
   "cell_type": "markdown",
   "metadata": {},
   "source": [
    "<h3> (4) Recommendations"
   ]
  },
  {
   "cell_type": "markdown",
   "metadata": {},
   "source": [
    "It could be observed that the precision of the methods are sufficient, which means that the best suited method is a question of efficiency. In the test of the runtime it could be seen that the crude method was the fastest - however this is only true for the sampled distribution. The methods each have their own strengths and weaknesses. \n",
    "\n",
    "The crude method is very efficient and easy to implement. However, if there was a high number of outcomes (and not just 6) the number of comparisons could easily increase the runtime drastically. Additionally, the method is reliant on the CDF being computed, which could be hard in some special cases. \n",
    "\n",
    "The rejection method is probably the easiest method to apply on any given distribution, however, as it could be seen in the runtime-test, it is the slowest of these methods. It could be especially inefficient if a lot of the candidate numbers are rejected.\n",
    "\n",
    "The alias method is efficient even over a large nmber of samples and outcomes, however it can be difficult to implement, and takes initial time and memory to simply do the setup.\n"
   ]
  },
  {
   "cell_type": "code",
   "execution_count": null,
   "metadata": {},
   "outputs": [],
   "source": []
  }
 ],
 "metadata": {
  "kernelspec": {
   "display_name": "Python 3",
   "language": "python",
   "name": "python3"
  },
  "language_info": {
   "codemirror_mode": {
    "name": "ipython",
    "version": 3
   },
   "file_extension": ".py",
   "mimetype": "text/x-python",
   "name": "python",
   "nbconvert_exporter": "python",
   "pygments_lexer": "ipython3",
   "version": "3.6.10"
  }
 },
 "nbformat": 4,
 "nbformat_minor": 4
}
