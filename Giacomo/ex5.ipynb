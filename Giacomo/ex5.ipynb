{
 "cells": [
  {
   "cell_type": "code",
   "execution_count": 2,
   "metadata": {},
   "outputs": [],
   "source": [
    "import numpy as np\n",
    "from scipy import stats\n",
    "import matplotlib.pyplot as plt"
   ]
  },
  {
   "cell_type": "code",
   "execution_count": 3,
   "metadata": {},
   "outputs": [],
   "source": [
    "def getCI(vals):\n",
    "    n = len(vals)\n",
    "    CL = 0.95 # confidence level\n",
    "    DF = n-1 # degrees of freedom\n",
    "    z = np.abs(stats.t.ppf((1-CL)/2,DF))\n",
    "    mean = np.mean(vals)\n",
    "    std = np.std(vals, ddof = 1)\n",
    "    u = mean + z*std/np.sqrt(n)\n",
    "    l = mean - z*std/np.sqrt(n)\n",
    "    return mean, u, l"
   ]
  },
  {
   "attachments": {},
   "cell_type": "markdown",
   "metadata": {},
   "source": [
    "# q1 - crude method"
   ]
  },
  {
   "cell_type": "code",
   "execution_count": 4,
   "metadata": {},
   "outputs": [
    {
     "name": "stdout",
     "output_type": "stream",
     "text": [
      "0.2544481085644955\n",
      "(1.7304628428789217, 1.8310566330317244, 1.629869052726119)\n"
     ]
    }
   ],
   "source": [
    "us = np.random.uniform(0,1, size = 100)\n",
    "exp = np.exp(us)\n",
    "print(np.var(exp))\n",
    "print(getCI(exp))"
   ]
  },
  {
   "attachments": {},
   "cell_type": "markdown",
   "metadata": {},
   "source": [
    "# q2 - antithetic variables"
   ]
  },
  {
   "cell_type": "code",
   "execution_count": 18,
   "metadata": {},
   "outputs": [
    {
     "name": "stdout",
     "output_type": "stream",
     "text": [
      "0.003971109344100165\n",
      "(1.7178316304889574, 1.7303985108636029, 1.705264750114312)\n"
     ]
    }
   ],
   "source": [
    "us = np.random.uniform(0,1, size = 100)\n",
    "exp = np.exp(us)\n",
    "y = (exp + np.e/exp)/2\n",
    "print(np.var(y))\n",
    "print(getCI(y))"
   ]
  },
  {
   "attachments": {},
   "cell_type": "markdown",
   "metadata": {},
   "source": [
    "# q3 - control variates"
   ]
  },
  {
   "cell_type": "code",
   "execution_count": 19,
   "metadata": {},
   "outputs": [
    {
     "name": "stdout",
     "output_type": "stream",
     "text": [
      "0.004015359751945773\n",
      "(1.724430460524101, 1.7370671638332198, 1.7117937572149822)\n"
     ]
    }
   ],
   "source": [
    "us = np.random.uniform(0,1, size = 100)\n",
    "exp = np.exp(us)\n",
    "c = -np.cov(exp, us)[0,1]/np.var(us)\n",
    "z = exp + c*(us - 1/2)\n",
    "print(np.var(z))\n",
    "print(getCI(z))"
   ]
  },
  {
   "attachments": {},
   "cell_type": "markdown",
   "metadata": {},
   "source": [
    "# q4 - stratified sampling"
   ]
  },
  {
   "cell_type": "code",
   "execution_count": 20,
   "metadata": {},
   "outputs": [
    {
     "name": "stdout",
     "output_type": "stream",
     "text": [
      "0.00013662900096104535\n",
      "(1.7164159797327343, 1.7252299781012836, 1.707601981364185)\n"
     ]
    }
   ],
   "source": [
    "w = []\n",
    "for i in range(10):\n",
    "    us = np.random.uniform(0,1,10)\n",
    "    w.append(np.sum([np.exp((j + us[j])/10) for j in range(10)])/10)\n",
    "\n",
    "print(np.var(w))\n",
    "print(getCI(w))"
   ]
  },
  {
   "attachments": {},
   "cell_type": "markdown",
   "metadata": {},
   "source": [
    "# q5 - control variates"
   ]
  },
  {
   "attachments": {},
   "cell_type": "markdown",
   "metadata": {},
   "source": [
    "control variate is the mean arrival time for the run"
   ]
  },
  {
   "cell_type": "code",
   "execution_count": 21,
   "metadata": {},
   "outputs": [],
   "source": [
    "def simulate_queue(nserver, customers, mean_st, mean_tbc):\n",
    "    server_time = np.zeros(nserver)\n",
    "    time = 0\n",
    "    blocked = 0\n",
    "    t_arrival_time = 0\n",
    "    for _ in range(customers):\n",
    "        delta_arrival_time = stats.expon.rvs(scale = mean_tbc, size = 1)[0]\n",
    "        t_arrival_time += delta_arrival_time\n",
    "        time += delta_arrival_time\n",
    "        min_server = np.min(server_time)\n",
    "        idx_min_server = np.argmin(server_time)\n",
    "        if time < min_server:\n",
    "            blocked +=1\n",
    "        else:\n",
    "            delta_service_time = stats.expon.rvs(scale = mean_st, size = 1)\n",
    "            server_time[idx_min_server] = time + delta_service_time\n",
    "    \n",
    "    return blocked/customers, t_arrival_time/customers"
   ]
  },
  {
   "cell_type": "code",
   "execution_count": 22,
   "metadata": {},
   "outputs": [
    {
     "name": "stdout",
     "output_type": "stream",
     "text": [
      "(0.11989798911541467, 0.12168346526458784, 0.1181125129662415)\n",
      "(0.11982000000000001, 0.12178887107092433, 0.11785112892907569)\n",
      "7.575111111111105e-06 6.229634374080824e-06\n"
     ]
    }
   ],
   "source": [
    "nserver = 10\n",
    "mean_st = 8\n",
    "mean_tbc = 1\n",
    "customers = 10000\n",
    "nsim = 10\n",
    "runs = []\n",
    "arrivals = []\n",
    "for i in range(nsim):\n",
    "    blocked, arrival = simulate_queue(nserver, customers, mean_st, mean_tbc)\n",
    "    runs.append(blocked)\n",
    "    arrivals.append(arrival)\n",
    "\n",
    "runs = np.array(runs)\n",
    "arrivals = np.array(arrivals)\n",
    "c = -np.cov(runs, arrivals)[0,1]/np.var(arrivals)\n",
    "z = runs + c*(arrivals - mean_tbc)\n",
    "print(getCI(z))\n",
    "print(getCI(runs))\n",
    "print(np.cov(runs), np.cov(z))"
   ]
  },
  {
   "attachments": {},
   "cell_type": "markdown",
   "metadata": {},
   "source": [
    "The variance is indeed reduced"
   ]
  },
  {
   "attachments": {},
   "cell_type": "markdown",
   "metadata": {},
   "source": [
    "# q6 - common random numbers"
   ]
  },
  {
   "cell_type": "code",
   "execution_count": 9,
   "metadata": {},
   "outputs": [
    {
     "data": {
      "text/plain": [
       "(Ttest_relResult(statistic=16.68412262034125, pvalue=4.462657602263569e-08),\n",
       " 16.684122620341252)"
      ]
     },
     "execution_count": 9,
     "metadata": {},
     "output_type": "execute_result"
    }
   ],
   "source": [
    "def getExp(lam, us):\n",
    "    exp = -np.log(us)/lam\n",
    "    return exp \n",
    "\n",
    "def getHyperExp(p, lam1, lam2, u1, u2):\n",
    "    res = np.zeros(len(u1))\n",
    "    res[u2 <= p] = getExp(lam = lam1, us = u1[u2 <=p])\n",
    "    res[u2 > p] = getExp(lam = lam2, us = u1[u2 > p])\n",
    "    return res\n",
    "\n",
    "def simulate_queue_q2(nserver, customers, mean_st, mean_tbc, type = 'Exp', seed = 0):\n",
    "    np.random.seed(seed)\n",
    "    u1 = np.random.uniform(0,1, customers)\n",
    "    u2 = np.random.uniform(0,1, customers)\n",
    "    server_time = np.zeros(nserver)\n",
    "    time = 0\n",
    "    blocked = 0\n",
    "    if type == 'Exp':\n",
    "        arrival_times = getExp(lam = mean_tbc, us = u1)\n",
    "    elif type == 'Hyp':\n",
    "        arrival_times = getHyperExp(0.8, 0.8333, 5, u1, u2)\n",
    "    for i in range(customers):\n",
    "        delta_arrival_time = arrival_times[i]\n",
    "        time += delta_arrival_time\n",
    "        min_server = np.min(server_time)\n",
    "        idx_min_server = np.argmin(server_time)\n",
    "        if time < min_server:\n",
    "            blocked += 1\n",
    "        else:\n",
    "            server_time[idx_min_server] = time + stats.expon.rvs(scale = mean_st, size = 1)\n",
    "    \n",
    "    return blocked/customers\n",
    "\n",
    "nserver = 10\n",
    "mean_st = 8\n",
    "mean_tbc = 1\n",
    "customers = 10000\n",
    "nsim = 10\n",
    "runs = []\n",
    "for i in range(10):\n",
    "    runs.append([simulate_queue_q2(nserver, customers, mean_st, mean_tbc, 'Hyp', i), simulate_queue_q2(nserver, customers, mean_st, mean_tbc, 'Exp', i)])\n",
    "\n",
    "runs = np.array(runs)\n",
    "stats.ttest_rel(runs[:,0], runs[:,1]), np.mean(runs[:,0] - runs[:,1])*np.sqrt(10)/np.std(runs[:,0] - runs[:,1], ddof = 1)"
   ]
  },
  {
   "attachments": {},
   "cell_type": "markdown",
   "metadata": {},
   "source": [
    "# q7 - montecarlo on standard normal random variable"
   ]
  },
  {
   "attachments": {},
   "cell_type": "markdown",
   "metadata": {},
   "source": [
    "Crude method"
   ]
  },
  {
   "cell_type": "code",
   "execution_count": null,
   "metadata": {},
   "outputs": [
    {
     "name": "stdout",
     "output_type": "stream",
     "text": [
      "(0.022609, 0.02290035580710304, 0.02231764419289696)\n",
      "0.022609 0.02275013194817921\n"
     ]
    }
   ],
   "source": [
    "a = 2\n",
    "tot = 1000000\n",
    "values = np.random.randn(tot) > a\n",
    "res = np.mean(values)\n",
    "print(getCI(values))\n",
    "print(res, 1 - stats.norm.cdf(a))"
   ]
  },
  {
   "attachments": {},
   "cell_type": "markdown",
   "metadata": {},
   "source": [
    "Importance sampling"
   ]
  },
  {
   "attachments": {},
   "cell_type": "markdown",
   "metadata": {},
   "source": [
    "importance sampling reduces the amount of samples required to estimate the probability"
   ]
  },
  {
   "cell_type": "code",
   "execution_count": null,
   "metadata": {},
   "outputs": [
    {
     "name": "stdout",
     "output_type": "stream",
     "text": [
      "0.022382897015648693 0.02275013194817921\n"
     ]
    }
   ],
   "source": [
    "a = 2\n",
    "s = 1\n",
    "tot = 10000\n",
    "\n",
    "samples = stats.norm.rvs(loc = a, scale = s, size = tot)\n",
    "\n",
    "h = samples > a\n",
    "f = stats.norm.pdf(samples)\n",
    "g = stats.norm.pdf(samples, loc = a, scale = s)\n",
    "\n",
    "Z = h * f / g\n",
    "res = np.mean(Z)\n",
    "\n",
    "#print(getCI(Z))\n",
    "print(res, 1 - stats.norm.cdf(a))"
   ]
  },
  {
   "attachments": {},
   "cell_type": "markdown",
   "metadata": {},
   "source": [
    "# q8 - exponential importance sampling"
   ]
  },
  {
   "cell_type": "code",
   "execution_count": null,
   "metadata": {},
   "outputs": [
    {
     "data": {
      "text/plain": [
       "(3.135220056680228, 1.7224825530121732)"
      ]
     },
     "execution_count": 246,
     "metadata": {},
     "output_type": "execute_result"
    }
   ],
   "source": [
    "lam = 1.35483\n",
    "size = 100000\n",
    "values = stats.expon.rvs(scale = 1/lam, size = size)\n",
    "f = np.logical_and(values <= 1, values>=0)\n",
    "h = np.exp(values)\n",
    "g = lam*np.exp(-lam*values)\n",
    "\n",
    "res = f * h / g\n",
    "np.var(res), np.mean(res)\n",
    "\n",
    "# equal to the analytical solution (see photos on phone, done on paper)\n"
   ]
  },
  {
   "attachments": {},
   "cell_type": "markdown",
   "metadata": {},
   "source": [
    "# q9 - pareto"
   ]
  },
  {
   "cell_type": "code",
   "execution_count": null,
   "metadata": {},
   "outputs": [
    {
     "data": {
      "text/plain": [
       "(21.000000000000075, 20.999999999999982)"
      ]
     },
     "execution_count": 244,
     "metadata": {},
     "output_type": "execute_result"
    }
   ],
   "source": [
    "k = 1.05\n",
    "size = 10000\n",
    "values = stats.pareto.rvs(k-1, size = size)\n",
    "\n",
    "h = values\n",
    "f = stats.pareto.pdf(values, k)\n",
    "g = stats.pareto.pdf(values, k-1)\n",
    "\n",
    "res = h * f / g\n",
    "np.mean(res), k/(k-1)"
   ]
  }
 ],
 "metadata": {
  "kernelspec": {
   "display_name": "Python 3",
   "language": "python",
   "name": "python3"
  },
  "language_info": {
   "codemirror_mode": {
    "name": "ipython",
    "version": 3
   },
   "file_extension": ".py",
   "mimetype": "text/x-python",
   "name": "python",
   "nbconvert_exporter": "python",
   "pygments_lexer": "ipython3",
   "version": "3.10.11"
  },
  "orig_nbformat": 4
 },
 "nbformat": 4,
 "nbformat_minor": 2
}
