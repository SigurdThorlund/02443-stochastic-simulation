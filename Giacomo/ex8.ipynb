{
 "cells": [
  {
   "cell_type": "code",
   "execution_count": 1,
   "metadata": {},
   "outputs": [],
   "source": [
    "import numpy as np\n",
    "import matplotlib.pyplot as plt\n",
    "from scipy import stats"
   ]
  },
  {
   "attachments": {},
   "cell_type": "markdown",
   "metadata": {},
   "source": [
    "question 1"
   ]
  },
  {
   "cell_type": "code",
   "execution_count": 72,
   "metadata": {},
   "outputs": [
    {
     "name": "stdout",
     "output_type": "stream",
     "text": [
      "Estimated p is 74\n"
     ]
    }
   ],
   "source": [
    "n = 10\n",
    "a = -5\n",
    "b = 5\n",
    "X = np.array([56,101,78,67,93,87,64,72,80,69])\n",
    "\n",
    "r = 100\n",
    "mean_res = []\n",
    "for i in range(r):\n",
    "    samples = np.random.choice(X,10)\n",
    "    mean_diff = np.mean(X) - np.mean(samples)\n",
    "    mean_res = np.append(mean_res,mean_diff)\n",
    "\n",
    "p = np.sum(np.abs(mean_res)<b)\n",
    "\n",
    "print('Estimated p is {}'.format(p))"
   ]
  },
  {
   "attachments": {},
   "cell_type": "markdown",
   "metadata": {},
   "source": [
    "question 2"
   ]
  },
  {
   "cell_type": "code",
   "execution_count": 89,
   "metadata": {},
   "outputs": [
    {
     "data": {
      "text/plain": [
       "58.617316924761866"
      ]
     },
     "execution_count": 89,
     "metadata": {},
     "output_type": "execute_result"
    }
   ],
   "source": [
    "n = 15\n",
    "X = np.array([5, 4, 9, 6, 21, 17, 11, 20, 7, 10, 21, 15, 13, 16, 8])\n",
    "r = 10000\n",
    "var_list = []\n",
    "for _ in range(r):\n",
    "    bootstrap = np.random.choice(X,15)\n",
    "    var_list.append(np.var(bootstrap, ddof = 1))\n",
    "\n",
    "np.var(var_list, ddof = 1)\n"
   ]
  },
  {
   "attachments": {},
   "cell_type": "markdown",
   "metadata": {},
   "source": [
    "question 3"
   ]
  },
  {
   "cell_type": "code",
   "execution_count": 7,
   "metadata": {},
   "outputs": [],
   "source": [
    "def median_variance_finder(data):\n",
    "    r = 100\n",
    "    n = data.shape[0]\n",
    "    bootstraps = np.random.choice(data, [n,r])\n",
    "    medians = np.median(bootstraps, axis = 0)\n",
    "    return np.median(data), np.var(medians, ddof = 1)\n",
    "\n",
    "def mean_variance_finder(data):\n",
    "    r = 100\n",
    "    n = data.shape[0]\n",
    "    bootstraps = np.random.choice(data, [n,r])\n",
    "    means = np.mean(bootstraps, axis = 0)\n",
    "    return np.mean(data), np.var(means, ddof = 1)\n",
    "   \n",
    "\n"
   ]
  },
  {
   "cell_type": "code",
   "execution_count": 117,
   "metadata": {},
   "outputs": [
    {
     "data": {
      "text/plain": [
       "((1.827849192233903, 0.007162238022009386),\n",
       " (4.92889063514309, 2.2032949118985288))"
      ]
     },
     "execution_count": 117,
     "metadata": {},
     "output_type": "execute_result"
    }
   ],
   "source": [
    "samples = stats.pareto.rvs(1.05, size = 200)\n",
    "\n",
    "mean = np.mean(samples)\n",
    "median = np.median(samples)\n",
    "\n",
    "median_variance_finder(samples), mean_variance_finder(samples)"
   ]
  },
  {
   "cell_type": "code",
   "execution_count": null,
   "metadata": {},
   "outputs": [],
   "source": []
  }
 ],
 "metadata": {
  "kernelspec": {
   "display_name": "Python 3",
   "language": "python",
   "name": "python3"
  },
  "language_info": {
   "codemirror_mode": {
    "name": "ipython",
    "version": 3
   },
   "file_extension": ".py",
   "mimetype": "text/x-python",
   "name": "python",
   "nbconvert_exporter": "python",
   "pygments_lexer": "ipython3",
   "version": "3.10.11"
  },
  "orig_nbformat": 4
 },
 "nbformat": 4,
 "nbformat_minor": 2
}
